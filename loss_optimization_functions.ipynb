{
 "cells": [
  {
   "cell_type": "markdown",
   "source": [
    "# Домашнее задание \"Функции потерь и оптимизация\""
   ],
   "metadata": {
    "collapsed": false
   }
  },
  {
   "cell_type": "code",
   "execution_count": 18,
   "metadata": {
    "collapsed": true
   },
   "outputs": [],
   "source": [
    "from sklearn.datasets import load_iris\n",
    "from sklearn.model_selection import train_test_split\n",
    "import pandas as pd\n",
    "import numpy as np\n",
    "from math import exp"
   ]
  },
  {
   "cell_type": "code",
   "execution_count": 3,
   "outputs": [],
   "source": [
    "iris = load_iris()"
   ],
   "metadata": {
    "collapsed": false,
    "pycharm": {
     "name": "#%%\n"
    }
   }
  },
  {
   "cell_type": "code",
   "execution_count": 4,
   "outputs": [
    {
     "data": {
      "text/plain": "['sepal length (cm)',\n 'sepal width (cm)',\n 'petal length (cm)',\n 'petal width (cm)']"
     },
     "execution_count": 4,
     "metadata": {},
     "output_type": "execute_result"
    }
   ],
   "source": [
    "iris.feature_names"
   ],
   "metadata": {
    "collapsed": false,
    "pycharm": {
     "name": "#%%\n"
    }
   }
  },
  {
   "cell_type": "code",
   "execution_count": 5,
   "outputs": [
    {
     "data": {
      "text/plain": "    sepal length (cm)  sepal width (cm)  petal length (cm)  petal width (cm)  \\\n50                7.0               3.2                4.7               1.4   \n51                6.4               3.2                4.5               1.5   \n52                6.9               3.1                4.9               1.5   \n53                5.5               2.3                4.0               1.3   \n54                6.5               2.8                4.6               1.5   \n\n    target  \n50       1  \n51       1  \n52       1  \n53       1  \n54       1  ",
      "text/html": "<div>\n<style scoped>\n    .dataframe tbody tr th:only-of-type {\n        vertical-align: middle;\n    }\n\n    .dataframe tbody tr th {\n        vertical-align: top;\n    }\n\n    .dataframe thead th {\n        text-align: right;\n    }\n</style>\n<table border=\"1\" class=\"dataframe\">\n  <thead>\n    <tr style=\"text-align: right;\">\n      <th></th>\n      <th>sepal length (cm)</th>\n      <th>sepal width (cm)</th>\n      <th>petal length (cm)</th>\n      <th>petal width (cm)</th>\n      <th>target</th>\n    </tr>\n  </thead>\n  <tbody>\n    <tr>\n      <th>50</th>\n      <td>7.0</td>\n      <td>3.2</td>\n      <td>4.7</td>\n      <td>1.4</td>\n      <td>1</td>\n    </tr>\n    <tr>\n      <th>51</th>\n      <td>6.4</td>\n      <td>3.2</td>\n      <td>4.5</td>\n      <td>1.5</td>\n      <td>1</td>\n    </tr>\n    <tr>\n      <th>52</th>\n      <td>6.9</td>\n      <td>3.1</td>\n      <td>4.9</td>\n      <td>1.5</td>\n      <td>1</td>\n    </tr>\n    <tr>\n      <th>53</th>\n      <td>5.5</td>\n      <td>2.3</td>\n      <td>4.0</td>\n      <td>1.3</td>\n      <td>1</td>\n    </tr>\n    <tr>\n      <th>54</th>\n      <td>6.5</td>\n      <td>2.8</td>\n      <td>4.6</td>\n      <td>1.5</td>\n      <td>1</td>\n    </tr>\n  </tbody>\n</table>\n</div>"
     },
     "execution_count": 5,
     "metadata": {},
     "output_type": "execute_result"
    }
   ],
   "source": [
    "df = pd.DataFrame(data=iris.data, columns=iris.feature_names)\n",
    "df['target'] = iris.target\n",
    "df = df[df['target'] != 0]\n",
    "df.head()"
   ],
   "metadata": {
    "collapsed": false,
    "pycharm": {
     "name": "#%%\n"
    }
   }
  },
  {
   "cell_type": "code",
   "execution_count": 34,
   "outputs": [],
   "source": [
    "X = df['sepal length (cm)']\n",
    "y = df['target']"
   ],
   "metadata": {
    "collapsed": false,
    "pycharm": {
     "name": "#%%\n"
    }
   }
  },
  {
   "cell_type": "code",
   "execution_count": 35,
   "outputs": [],
   "source": [
    "X_train, X_test, y_train, y_test = train_test_split(X, y, test_size=0.3, random_state=42)"
   ],
   "metadata": {
    "collapsed": false,
    "pycharm": {
     "name": "#%%\n"
    }
   }
  },
  {
   "cell_type": "markdown",
   "source": [
    "## Реализовать самостоятельно логистическую регрессию. Обучить ее методом градиентного спуска"
   ],
   "metadata": {
    "collapsed": false
   }
  },
  {
   "cell_type": "code",
   "execution_count": 45,
   "outputs": [],
   "source": [
    "# Method to make predictions\n",
    "def predict(X, b0, b1):\n",
    "        return np.array([1 / (1 + exp(-1*b0 + -1*b1*x)) for x in X])\n",
    "\n",
    "# Method to train the model\n",
    "def logistic_regression(X, Y):\n",
    "        # Initializing variables\n",
    "        b0 = 0\n",
    "        b1 = 0\n",
    "        L = 0.001\n",
    "        epochs = 300\n",
    "\n",
    "        for epoch in range(epochs):\n",
    "                y_pred = predict(X, b0, b1)\n",
    "                D_b0 = -2 * sum((Y - y_pred) * y_pred * (1 - y_pred))  # Derivative of loss wrt b0\n",
    "                D_b1 = -2 * sum(X * (Y - y_pred) * y_pred * (1 - y_pred))  # Derivative of loss wrt b1\n",
    "                # Update b0 and b1\n",
    "                b0 = b0 - L * D_b0\n",
    "                b1 = b1 - L * D_b1\n",
    "\n",
    "        return b0, b1"
   ],
   "metadata": {
    "collapsed": false,
    "pycharm": {
     "name": "#%%\n"
    }
   }
  },
  {
   "cell_type": "code",
   "execution_count": 47,
   "outputs": [
    {
     "name": "stdout",
     "output_type": "stream",
     "text": [
      "Accuracy = 0.5666666666666667\n"
     ]
    }
   ],
   "source": [
    "# Training the model\n",
    "b0, b1 = logistic_regression(X_train, y_train)\n",
    "\n",
    "# Making predictions\n",
    "y_pred = predict(X_test, b0, b1)\n",
    "y_pred = [1 if p >= 0.5 else 0 for p in y_pred]\n",
    "\n",
    "# The accuracy\n",
    "accuracy = 0\n",
    "for i in range(len(y_pred)):\n",
    "        if y_pred[i] == y_test.iloc[i]:\n",
    "                accuracy += 1\n",
    "print(f\"Accuracy = {accuracy / len(y_pred)}\")"
   ],
   "metadata": {
    "collapsed": false,
    "pycharm": {
     "name": "#%%\n"
    }
   }
  },
  {
   "cell_type": "markdown",
   "source": [
    "## Обучить ее методом nesterov momentum"
   ],
   "metadata": {
    "collapsed": false
   }
  },
  {
   "cell_type": "code",
   "execution_count": 51,
   "outputs": [],
   "source": [
    "def logistic_regression_nesterov_momentum(X, Y):\n",
    "        # Initializing variables\n",
    "        b0 = 0\n",
    "        b1 = 0\n",
    "        L = 0.001\n",
    "        epochs = 300\n",
    "        momentum0 = 0\n",
    "        momentum1 = 0\n",
    "        coef_nesterov = 0.5\n",
    "\n",
    "        for epoch in range(epochs):\n",
    "                y_pred = predict(X, b0, b1)\n",
    "                D_b0 = -2 * sum((Y - y_pred) * y_pred * (1 - y_pred))  # Derivative of loss wrt b0\n",
    "                D_b1 = -2 * sum(X * (Y - y_pred) * y_pred * (1 - y_pred))  # Derivative of loss wrt b1\n",
    "                # Define nesterov momentum\n",
    "                momentum0 = coef_nesterov * momentum0 + (1 - coef_nesterov) * L * D_b0\n",
    "                momentum1 = coef_nesterov * momentum1 + (1 - coef_nesterov) * L * D_b1\n",
    "                # Update b0 and b1\n",
    "                b0 = b0 - momentum0\n",
    "                b1 = b1 - momentum1\n",
    "\n",
    "        return b0, b1"
   ],
   "metadata": {
    "collapsed": false,
    "pycharm": {
     "name": "#%%\n"
    }
   }
  },
  {
   "cell_type": "code",
   "execution_count": 52,
   "outputs": [
    {
     "name": "stdout",
     "output_type": "stream",
     "text": [
      "Accuracy = 0.5666666666666667\n"
     ]
    }
   ],
   "source": [
    "# Training the model\n",
    "b0, b1 = logistic_regression_nesterov_momentum(X_train, y_train)\n",
    "\n",
    "# Making predictions\n",
    "y_pred = predict(X_test, b0, b1)\n",
    "y_pred = [1 if p >= 0.5 else 0 for p in y_pred]\n",
    "\n",
    "# The accuracy\n",
    "accuracy = 0\n",
    "for i in range(len(y_pred)):\n",
    "        if y_pred[i] == y_test.iloc[i]:\n",
    "                accuracy += 1\n",
    "print(f\"Accuracy = {accuracy / len(y_pred)}\")"
   ],
   "metadata": {
    "collapsed": false,
    "pycharm": {
     "name": "#%%\n"
    }
   }
  },
  {
   "cell_type": "markdown",
   "source": [
    "## Обучить ее методом rmsprop"
   ],
   "metadata": {
    "collapsed": false
   }
  },
  {
   "cell_type": "code",
   "execution_count": 59,
   "outputs": [],
   "source": [
    "def logistic_regression_rmsprop(X, Y):\n",
    "        # Initializing variables\n",
    "        b0 = 0\n",
    "        b1 = 0\n",
    "        L = 0.001\n",
    "        epochs = 300\n",
    "        momentum0 = 0\n",
    "        momentum1 = 0\n",
    "        coef = 0.5\n",
    "\n",
    "        for epoch in range(epochs):\n",
    "                y_pred = predict(X, b0, b1)\n",
    "                D_b0 = -2 * sum((Y - y_pred) * y_pred * (1 - y_pred))  # Derivative of loss wrt b0\n",
    "                D_b1 = -2 * sum(X * (Y - y_pred) * y_pred * (1 - y_pred))  # Derivative of loss wrt b1\n",
    "                # Define nesterov momentum\n",
    "                momentum0 = np.sqrt(coef * momentum0 + (1 - coef) * -D_b0 * 10**(-6))\n",
    "                momentum1 = np.sqrt(coef * momentum1 + (1 - coef) * -D_b1 * 10**(-6))\n",
    "                # Update b0 and b1\n",
    "                b0 = b0 - L * D_b0 / momentum0\n",
    "                b1 = b1 - L * D_b1 / momentum1\n",
    "\n",
    "        return b0, b1"
   ],
   "metadata": {
    "collapsed": false,
    "pycharm": {
     "name": "#%%\n"
    }
   }
  },
  {
   "cell_type": "code",
   "execution_count": 60,
   "outputs": [
    {
     "name": "stdout",
     "output_type": "stream",
     "text": [
      "Accuracy = 0.5666666666666667\n"
     ]
    }
   ],
   "source": [
    "# Training the model\n",
    "b0, b1 = logistic_regression_rmsprop(X_train, y_train)\n",
    "\n",
    "# Making predictions\n",
    "y_pred = predict(X_test, b0, b1)\n",
    "y_pred = [1 if p >= 0.5 else 0 for p in y_pred]\n",
    "\n",
    "# The accuracy\n",
    "accuracy = 0\n",
    "for i in range(len(y_pred)):\n",
    "        if y_pred[i] == y_test.iloc[i]:\n",
    "                accuracy += 1\n",
    "print(f\"Accuracy = {accuracy / len(y_pred)}\")"
   ],
   "metadata": {
    "collapsed": false,
    "pycharm": {
     "name": "#%%\n"
    }
   }
  }
 ],
 "metadata": {
  "kernelspec": {
   "display_name": "Python 3",
   "language": "python",
   "name": "python3"
  },
  "language_info": {
   "codemirror_mode": {
    "name": "ipython",
    "version": 2
   },
   "file_extension": ".py",
   "mimetype": "text/x-python",
   "name": "python",
   "nbconvert_exporter": "python",
   "pygments_lexer": "ipython2",
   "version": "2.7.6"
  }
 },
 "nbformat": 4,
 "nbformat_minor": 0
}