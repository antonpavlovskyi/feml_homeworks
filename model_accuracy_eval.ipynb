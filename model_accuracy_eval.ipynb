{
 "cells": [
  {
   "cell_type": "markdown",
   "metadata": {},
   "source": [
    "### Угадываем признак"
   ]
  },
  {
   "cell_type": "code",
   "execution_count": 1,
   "metadata": {},
   "outputs": [],
   "source": [
    "import pandas as pd\n",
    "import numpy as np"
   ]
  },
  {
   "cell_type": "code",
   "execution_count": 2,
   "metadata": {},
   "outputs": [
    {
     "data": {
      "text/plain": "          id            name nationality     sex       dob  height  weight  \\\n0  736041664  A Jesus Garcia         ESP    male  10/17/69    1.72    64.0   \n1  532037425      A Lam Shin         KOR  female   9/23/86    1.68    56.0   \n2  435962603     Aaron Brown         CAN    male   5/27/92    1.98    79.0   \n3  521041435      Aaron Cook         MDA    male    1/2/91    1.83    80.0   \n4   33922579      Aaron Gate         NZL    male  11/26/90    1.81    71.0   \n\n       sport  gold  silver  bronze  \n0  athletics     0       0       0  \n1    fencing     0       0       0  \n2  athletics     0       0       1  \n3  taekwondo     0       0       0  \n4    cycling     0       0       0  ",
      "text/html": "<div>\n<style scoped>\n    .dataframe tbody tr th:only-of-type {\n        vertical-align: middle;\n    }\n\n    .dataframe tbody tr th {\n        vertical-align: top;\n    }\n\n    .dataframe thead th {\n        text-align: right;\n    }\n</style>\n<table border=\"1\" class=\"dataframe\">\n  <thead>\n    <tr style=\"text-align: right;\">\n      <th></th>\n      <th>id</th>\n      <th>name</th>\n      <th>nationality</th>\n      <th>sex</th>\n      <th>dob</th>\n      <th>height</th>\n      <th>weight</th>\n      <th>sport</th>\n      <th>gold</th>\n      <th>silver</th>\n      <th>bronze</th>\n    </tr>\n  </thead>\n  <tbody>\n    <tr>\n      <th>0</th>\n      <td>736041664</td>\n      <td>A Jesus Garcia</td>\n      <td>ESP</td>\n      <td>male</td>\n      <td>10/17/69</td>\n      <td>1.72</td>\n      <td>64.0</td>\n      <td>athletics</td>\n      <td>0</td>\n      <td>0</td>\n      <td>0</td>\n    </tr>\n    <tr>\n      <th>1</th>\n      <td>532037425</td>\n      <td>A Lam Shin</td>\n      <td>KOR</td>\n      <td>female</td>\n      <td>9/23/86</td>\n      <td>1.68</td>\n      <td>56.0</td>\n      <td>fencing</td>\n      <td>0</td>\n      <td>0</td>\n      <td>0</td>\n    </tr>\n    <tr>\n      <th>2</th>\n      <td>435962603</td>\n      <td>Aaron Brown</td>\n      <td>CAN</td>\n      <td>male</td>\n      <td>5/27/92</td>\n      <td>1.98</td>\n      <td>79.0</td>\n      <td>athletics</td>\n      <td>0</td>\n      <td>0</td>\n      <td>1</td>\n    </tr>\n    <tr>\n      <th>3</th>\n      <td>521041435</td>\n      <td>Aaron Cook</td>\n      <td>MDA</td>\n      <td>male</td>\n      <td>1/2/91</td>\n      <td>1.83</td>\n      <td>80.0</td>\n      <td>taekwondo</td>\n      <td>0</td>\n      <td>0</td>\n      <td>0</td>\n    </tr>\n    <tr>\n      <th>4</th>\n      <td>33922579</td>\n      <td>Aaron Gate</td>\n      <td>NZL</td>\n      <td>male</td>\n      <td>11/26/90</td>\n      <td>1.81</td>\n      <td>71.0</td>\n      <td>cycling</td>\n      <td>0</td>\n      <td>0</td>\n      <td>0</td>\n    </tr>\n  </tbody>\n</table>\n</div>"
     },
     "execution_count": 2,
     "metadata": {},
     "output_type": "execute_result"
    }
   ],
   "source": [
    "data = pd.read_csv('athletes.csv')\n",
    "data.head()"
   ]
  },
  {
   "cell_type": "code",
   "execution_count": 3,
   "metadata": {},
   "outputs": [
    {
     "name": "stdout",
     "output_type": "stream",
     "text": [
      "<class 'pandas.core.frame.DataFrame'>\n",
      "RangeIndex: 11538 entries, 0 to 11537\n",
      "Data columns (total 11 columns):\n",
      " #   Column       Non-Null Count  Dtype  \n",
      "---  ------       --------------  -----  \n",
      " 0   id           11538 non-null  int64  \n",
      " 1   name         11538 non-null  object \n",
      " 2   nationality  11538 non-null  object \n",
      " 3   sex          11538 non-null  object \n",
      " 4   dob          11537 non-null  object \n",
      " 5   height       11208 non-null  float64\n",
      " 6   weight       10879 non-null  float64\n",
      " 7   sport        11538 non-null  object \n",
      " 8   gold         11538 non-null  int64  \n",
      " 9   silver       11538 non-null  int64  \n",
      " 10  bronze       11538 non-null  int64  \n",
      "dtypes: float64(2), int64(4), object(5)\n",
      "memory usage: 991.7+ KB\n"
     ]
    }
   ],
   "source": [
    "data.info()"
   ]
  },
  {
   "cell_type": "markdown",
   "metadata": {},
   "source": [
    "Посмотрим много ли в наших признаках пустых значений"
   ]
  },
  {
   "cell_type": "code",
   "execution_count": 4,
   "metadata": {},
   "outputs": [
    {
     "data": {
      "text/plain": "           id                name nationality   sex       dob  height  weight  \\\n12  258556239          Abbas Qali         IOA  male  10/11/92     NaN     NaN   \n47  469953606  Abdoullah Bamoussa         ITA  male    6/8/86     NaN     NaN   \n50  325809293          Abdul Omar         GHA  male   10/3/93     NaN     NaN   \n52  262868423  Abdulaziz Alshatti         IOA  male  10/30/90     NaN     NaN   \n56  897549624   Abdullah Hel Baki         BAN  male    8/1/89     NaN     NaN   \n\n        sport  gold  silver  bronze  \n12   aquatics     0       0       0  \n47  athletics     0       0       0  \n50     boxing     0       0       0  \n52    fencing     0       0       0  \n56   shooting     0       0       0  ",
      "text/html": "<div>\n<style scoped>\n    .dataframe tbody tr th:only-of-type {\n        vertical-align: middle;\n    }\n\n    .dataframe tbody tr th {\n        vertical-align: top;\n    }\n\n    .dataframe thead th {\n        text-align: right;\n    }\n</style>\n<table border=\"1\" class=\"dataframe\">\n  <thead>\n    <tr style=\"text-align: right;\">\n      <th></th>\n      <th>id</th>\n      <th>name</th>\n      <th>nationality</th>\n      <th>sex</th>\n      <th>dob</th>\n      <th>height</th>\n      <th>weight</th>\n      <th>sport</th>\n      <th>gold</th>\n      <th>silver</th>\n      <th>bronze</th>\n    </tr>\n  </thead>\n  <tbody>\n    <tr>\n      <th>12</th>\n      <td>258556239</td>\n      <td>Abbas Qali</td>\n      <td>IOA</td>\n      <td>male</td>\n      <td>10/11/92</td>\n      <td>NaN</td>\n      <td>NaN</td>\n      <td>aquatics</td>\n      <td>0</td>\n      <td>0</td>\n      <td>0</td>\n    </tr>\n    <tr>\n      <th>47</th>\n      <td>469953606</td>\n      <td>Abdoullah Bamoussa</td>\n      <td>ITA</td>\n      <td>male</td>\n      <td>6/8/86</td>\n      <td>NaN</td>\n      <td>NaN</td>\n      <td>athletics</td>\n      <td>0</td>\n      <td>0</td>\n      <td>0</td>\n    </tr>\n    <tr>\n      <th>50</th>\n      <td>325809293</td>\n      <td>Abdul Omar</td>\n      <td>GHA</td>\n      <td>male</td>\n      <td>10/3/93</td>\n      <td>NaN</td>\n      <td>NaN</td>\n      <td>boxing</td>\n      <td>0</td>\n      <td>0</td>\n      <td>0</td>\n    </tr>\n    <tr>\n      <th>52</th>\n      <td>262868423</td>\n      <td>Abdulaziz Alshatti</td>\n      <td>IOA</td>\n      <td>male</td>\n      <td>10/30/90</td>\n      <td>NaN</td>\n      <td>NaN</td>\n      <td>fencing</td>\n      <td>0</td>\n      <td>0</td>\n      <td>0</td>\n    </tr>\n    <tr>\n      <th>56</th>\n      <td>897549624</td>\n      <td>Abdullah Hel Baki</td>\n      <td>BAN</td>\n      <td>male</td>\n      <td>8/1/89</td>\n      <td>NaN</td>\n      <td>NaN</td>\n      <td>shooting</td>\n      <td>0</td>\n      <td>0</td>\n      <td>0</td>\n    </tr>\n  </tbody>\n</table>\n</div>"
     },
     "execution_count": 4,
     "metadata": {},
     "output_type": "execute_result"
    }
   ],
   "source": [
    "data[ pd.isnull( data['height'] ) ].head()"
   ]
  },
  {
   "cell_type": "code",
   "execution_count": 5,
   "metadata": {},
   "outputs": [
    {
     "name": "stdout",
     "output_type": "stream",
     "text": [
      "Для height пустых строк 330\n",
      "Для weight пустых строк 659\n",
      "Для sport пустых строк 0\n",
      "Всего строк в наборе 11538\n"
     ]
    }
   ],
   "source": [
    "print('Для height пустых строк ' + str( len( data[ pd.isnull( data['height'] ) ] ) ))\n",
    "print('Для weight пустых строк ' + str( len( data[ pd.isnull( data['weight'] ) ] ) ))\n",
    "print('Для sport пустых строк ' + str( len( data[ pd.isnull( data['sport'] ) ] ) ))\n",
    "print('Всего строк в наборе ' + str( len( data ) ))"
   ]
  },
  {
   "cell_type": "code",
   "execution_count": 6,
   "metadata": {},
   "outputs": [
    {
     "data": {
      "text/plain": "array([1.72, 1.68, 1.98, 1.83, 1.81, 1.8 , 2.05, 1.93, 1.65, 1.7 , 1.75,\n        nan, 1.61, 1.78, 1.76, 2.1 , 1.73, 1.85, 1.77, 1.9 , 1.86, 1.74,\n       1.6 , 2.07, 1.88, 1.66, 1.62, 1.87, 2.03, 1.69, 1.82, 1.89, 1.94,\n       1.95, 1.71, 1.84, 1.91, 1.67, 2.02, 1.58, 1.63, 1.79, 1.97, 1.56,\n       1.55, 1.57, 1.46, 1.92, 1.64, 1.53, 1.99, 1.96, 2.  , 2.04, 1.47,\n       1.52, 2.01, 1.51, 1.59, 2.08, 1.37, 1.5 , 1.45, 2.06, 1.54, 2.11,\n       1.43, 1.49, 1.33, 1.48, 1.44, 2.13, 2.09, 2.21, 2.18, 1.21, 1.38,\n       1.34, 2.15, 2.17, 1.42, 1.4 , 2.14])"
     },
     "execution_count": 6,
     "metadata": {},
     "output_type": "execute_result"
    }
   ],
   "source": [
    "data['height'].unique()"
   ]
  },
  {
   "cell_type": "code",
   "execution_count": 7,
   "metadata": {},
   "outputs": [],
   "source": [
    "data = data[ pd.isnull( data['height'] ) == 0 ]\n",
    "data = data[ pd.isnull( data['weight'] ) == 0 ]"
   ]
  },
  {
   "cell_type": "code",
   "execution_count": 8,
   "metadata": {},
   "outputs": [
    {
     "name": "stdout",
     "output_type": "stream",
     "text": [
      "<class 'pandas.core.frame.DataFrame'>\n",
      "Int64Index: 10858 entries, 0 to 11537\n",
      "Data columns (total 11 columns):\n",
      " #   Column       Non-Null Count  Dtype  \n",
      "---  ------       --------------  -----  \n",
      " 0   id           10858 non-null  int64  \n",
      " 1   name         10858 non-null  object \n",
      " 2   nationality  10858 non-null  object \n",
      " 3   sex          10858 non-null  object \n",
      " 4   dob          10858 non-null  object \n",
      " 5   height       10858 non-null  float64\n",
      " 6   weight       10858 non-null  float64\n",
      " 7   sport        10858 non-null  object \n",
      " 8   gold         10858 non-null  int64  \n",
      " 9   silver       10858 non-null  int64  \n",
      " 10  bronze       10858 non-null  int64  \n",
      "dtypes: float64(2), int64(4), object(5)\n",
      "memory usage: 1017.9+ KB\n"
     ]
    }
   ],
   "source": [
    "data.info()"
   ]
  },
  {
   "cell_type": "code",
   "execution_count": 9,
   "metadata": {},
   "outputs": [],
   "source": [
    "from sklearn.linear_model import LogisticRegression\n",
    "from sklearn.model_selection import train_test_split"
   ]
  },
  {
   "cell_type": "markdown",
   "metadata": {},
   "source": [
    "### Строим модель"
   ]
  },
  {
   "cell_type": "code",
   "execution_count": 10,
   "metadata": {},
   "outputs": [
    {
     "data": {
      "text/plain": "          id            name nationality       dob  height  weight      sport  \\\n0  736041664  A Jesus Garcia         ESP  10/17/69    1.72    64.0  athletics   \n1  532037425      A Lam Shin         KOR   9/23/86    1.68    56.0    fencing   \n2  435962603     Aaron Brown         CAN   5/27/92    1.98    79.0  athletics   \n\n   gold  silver  bronze  \n0     0       0       0  \n1     0       0       0  \n2     0       0       1  ",
      "text/html": "<div>\n<style scoped>\n    .dataframe tbody tr th:only-of-type {\n        vertical-align: middle;\n    }\n\n    .dataframe tbody tr th {\n        vertical-align: top;\n    }\n\n    .dataframe thead th {\n        text-align: right;\n    }\n</style>\n<table border=\"1\" class=\"dataframe\">\n  <thead>\n    <tr style=\"text-align: right;\">\n      <th></th>\n      <th>id</th>\n      <th>name</th>\n      <th>nationality</th>\n      <th>dob</th>\n      <th>height</th>\n      <th>weight</th>\n      <th>sport</th>\n      <th>gold</th>\n      <th>silver</th>\n      <th>bronze</th>\n    </tr>\n  </thead>\n  <tbody>\n    <tr>\n      <th>0</th>\n      <td>736041664</td>\n      <td>A Jesus Garcia</td>\n      <td>ESP</td>\n      <td>10/17/69</td>\n      <td>1.72</td>\n      <td>64.0</td>\n      <td>athletics</td>\n      <td>0</td>\n      <td>0</td>\n      <td>0</td>\n    </tr>\n    <tr>\n      <th>1</th>\n      <td>532037425</td>\n      <td>A Lam Shin</td>\n      <td>KOR</td>\n      <td>9/23/86</td>\n      <td>1.68</td>\n      <td>56.0</td>\n      <td>fencing</td>\n      <td>0</td>\n      <td>0</td>\n      <td>0</td>\n    </tr>\n    <tr>\n      <th>2</th>\n      <td>435962603</td>\n      <td>Aaron Brown</td>\n      <td>CAN</td>\n      <td>5/27/92</td>\n      <td>1.98</td>\n      <td>79.0</td>\n      <td>athletics</td>\n      <td>0</td>\n      <td>0</td>\n      <td>1</td>\n    </tr>\n  </tbody>\n</table>\n</div>"
     },
     "execution_count": 10,
     "metadata": {},
     "output_type": "execute_result"
    }
   ],
   "source": [
    "features_columns = [c for c in data.columns if c != 'sex']\n",
    "X = data[features_columns]\n",
    "X.head(3)"
   ]
  },
  {
   "cell_type": "code",
   "execution_count": 11,
   "metadata": {},
   "outputs": [],
   "source": [
    "y = data['sex']"
   ]
  },
  {
   "cell_type": "code",
   "execution_count": 11,
   "metadata": {},
   "outputs": [],
   "source": []
  },
  {
   "cell_type": "code",
   "execution_count": 11,
   "metadata": {},
   "outputs": [],
   "source": []
  },
  {
   "cell_type": "code",
   "execution_count": 12,
   "metadata": {},
   "outputs": [],
   "source": [
    "from sklearn.preprocessing import LabelEncoder, OneHotEncoder\n",
    "le = LabelEncoder()\n",
    "ohe = OneHotEncoder()"
   ]
  },
  {
   "cell_type": "code",
   "execution_count": 13,
   "metadata": {},
   "outputs": [],
   "source": [
    "ft = ohe.fit_transform(data[['nationality', 'height', 'weight', 'sport', 'gold', 'silver', 'bronze']])"
   ]
  },
  {
   "cell_type": "code",
   "execution_count": 14,
   "metadata": {},
   "outputs": [
    {
     "data": {
      "text/plain": "   height  weight  gold  silver  bronze\n0    1.72    64.0     0       0       0\n1    1.68    56.0     0       0       0\n2    1.98    79.0     0       0       1\n3    1.83    80.0     0       0       0",
      "text/html": "<div>\n<style scoped>\n    .dataframe tbody tr th:only-of-type {\n        vertical-align: middle;\n    }\n\n    .dataframe tbody tr th {\n        vertical-align: top;\n    }\n\n    .dataframe thead th {\n        text-align: right;\n    }\n</style>\n<table border=\"1\" class=\"dataframe\">\n  <thead>\n    <tr style=\"text-align: right;\">\n      <th></th>\n      <th>height</th>\n      <th>weight</th>\n      <th>gold</th>\n      <th>silver</th>\n      <th>bronze</th>\n    </tr>\n  </thead>\n  <tbody>\n    <tr>\n      <th>0</th>\n      <td>1.72</td>\n      <td>64.0</td>\n      <td>0</td>\n      <td>0</td>\n      <td>0</td>\n    </tr>\n    <tr>\n      <th>1</th>\n      <td>1.68</td>\n      <td>56.0</td>\n      <td>0</td>\n      <td>0</td>\n      <td>0</td>\n    </tr>\n    <tr>\n      <th>2</th>\n      <td>1.98</td>\n      <td>79.0</td>\n      <td>0</td>\n      <td>0</td>\n      <td>1</td>\n    </tr>\n    <tr>\n      <th>3</th>\n      <td>1.83</td>\n      <td>80.0</td>\n      <td>0</td>\n      <td>0</td>\n      <td>0</td>\n    </tr>\n  </tbody>\n</table>\n</div>"
     },
     "execution_count": 14,
     "metadata": {},
     "output_type": "execute_result"
    }
   ],
   "source": [
    "X = data[['height', 'weight', 'gold', 'silver', 'bronze']]\n",
    "X.head(4)"
   ]
  },
  {
   "cell_type": "code",
   "execution_count": 15,
   "metadata": {},
   "outputs": [
    {
     "data": {
      "text/plain": "LabelEncoder()"
     },
     "execution_count": 15,
     "metadata": {},
     "output_type": "execute_result"
    }
   ],
   "source": [
    "le.fit( data['sex'] )"
   ]
  },
  {
   "cell_type": "code",
   "execution_count": 16,
   "metadata": {},
   "outputs": [
    {
     "data": {
      "text/plain": "0    1\n1    0\n2    1\n3    1\n4    1\ndtype: int64"
     },
     "execution_count": 16,
     "metadata": {},
     "output_type": "execute_result"
    }
   ],
   "source": [
    "y = pd.Series( data = le.transform( data['sex'] ) )\n",
    "y.head()"
   ]
  },
  {
   "cell_type": "code",
   "execution_count": 16,
   "metadata": {},
   "outputs": [],
   "source": []
  },
  {
   "cell_type": "code",
   "execution_count": 17,
   "metadata": {},
   "outputs": [],
   "source": [
    "model = LogisticRegression()"
   ]
  },
  {
   "cell_type": "code",
   "execution_count": 18,
   "metadata": {},
   "outputs": [],
   "source": [
    "X_train, X_test, y_train, y_test = train_test_split(X, y, test_size=0.3)"
   ]
  },
  {
   "cell_type": "code",
   "execution_count": 19,
   "metadata": {},
   "outputs": [
    {
     "data": {
      "text/plain": "LogisticRegression()"
     },
     "execution_count": 19,
     "metadata": {},
     "output_type": "execute_result"
    }
   ],
   "source": [
    "model.fit(X_train, y_train)"
   ]
  },
  {
   "cell_type": "code",
   "execution_count": 20,
   "metadata": {},
   "outputs": [],
   "source": [
    "from sklearn.metrics import roc_curve"
   ]
  },
  {
   "cell_type": "code",
   "execution_count": 21,
   "metadata": {},
   "outputs": [],
   "source": [
    "predictions = model.predict_proba(X_test)"
   ]
  },
  {
   "cell_type": "code",
   "execution_count": 22,
   "metadata": {},
   "outputs": [],
   "source": [
    "fpr, tpr, thres = roc_curve( y_test, predictions[:, 1])"
   ]
  },
  {
   "cell_type": "code",
   "execution_count": 29,
   "outputs": [
    {
     "data": {
      "text/plain": "array([1.99993028, 0.99993028, 0.99750196, ..., 0.01969502, 0.01907186,\n       0.00403164])"
     },
     "execution_count": 29,
     "metadata": {},
     "output_type": "execute_result"
    }
   ],
   "source": [
    "thres"
   ],
   "metadata": {
    "collapsed": false,
    "pycharm": {
     "name": "#%%\n"
    }
   }
  },
  {
   "cell_type": "code",
   "execution_count": 23,
   "metadata": {},
   "outputs": [],
   "source": [
    "from matplotlib import pyplot as plt"
   ]
  },
  {
   "cell_type": "code",
   "execution_count": 24,
   "metadata": {},
   "outputs": [
    {
     "data": {
      "text/plain": "[<matplotlib.lines.Line2D at 0x7fa88c71f280>]"
     },
     "execution_count": 24,
     "metadata": {},
     "output_type": "execute_result"
    },
    {
     "data": {
      "text/plain": "<Figure size 432x288 with 1 Axes>",
      "image/png": "[encoded data removed]"
     },
     "metadata": {
      "needs_background": "light"
     },
     "output_type": "display_data"
    }
   ],
   "source": [
    "plt.plot( fpr, tpr )"
   ]
  },
  {
   "cell_type": "code",
   "execution_count": 25,
   "metadata": {},
   "outputs": [],
   "source": [
    "from sklearn.metrics import roc_auc_score"
   ]
  },
  {
   "cell_type": "code",
   "execution_count": 26,
   "metadata": {},
   "outputs": [
    {
     "data": {
      "text/plain": "0.8548193204722141"
     },
     "execution_count": 26,
     "metadata": {},
     "output_type": "execute_result"
    }
   ],
   "source": [
    "roc_auc_score(y_test, predictions[:, 1])"
   ]
  },
  {
   "cell_type": "markdown",
   "source": [
    "## Домашняя работа \"Оценка точности модели, переобучение, регуляризация\""
   ],
   "metadata": {
    "collapsed": false
   }
  },
  {
   "cell_type": "code",
   "execution_count": 35,
   "metadata": {},
   "outputs": [],
   "source": [
    "def true_false_positive(threshold_vector, y_test_fn):\n",
    "    true_positive = np.equal(threshold_vector, 1) & np.equal(y_test_fn, 1)\n",
    "    true_negative = np.equal(threshold_vector, 0) & np.equal(y_test_fn, 0)\n",
    "    false_positive = np.equal(threshold_vector, 1) & np.equal(y_test_fn, 0)\n",
    "    false_negative = np.equal(threshold_vector, 0) & np.equal(y_test_fn, 1)\n",
    "\n",
    "    tpr = true_positive.sum() / (true_positive.sum() + false_negative.sum())\n",
    "    fpr = false_positive.sum() / (false_positive.sum() + true_negative.sum())\n",
    "\n",
    "    return tpr, fpr"
   ]
  },
  {
   "cell_type": "code",
   "execution_count": 36,
   "outputs": [],
   "source": [
    "def roc_from_scratch(probabilities, y_test_fn, partitions=100):\n",
    "    roc = np.array([])\n",
    "    for i in range(partitions + 1):\n",
    "\n",
    "        threshold_vector = np.greater_equal(probabilities, i / partitions).astype(int)\n",
    "        tpr, fpr = true_false_positive(threshold_vector, y_test_fn)\n",
    "        roc = np.append(roc, [fpr, tpr])\n",
    "\n",
    "    return roc.reshape(-1, 2)"
   ],
   "metadata": {
    "collapsed": false,
    "pycharm": {
     "name": "#%%\n"
    }
   }
  },
  {
   "cell_type": "code",
   "execution_count": 37,
   "outputs": [
    {
     "data": {
      "text/plain": "array([[1.        , 1.        ],\n       [0.99668874, 1.        ],\n       [0.99271523, 1.        ],\n       [0.98741722, 1.        ],\n       [0.98013245, 1.        ],\n       [0.96622517, 1.        ],\n       [0.94900662, 1.        ],\n       [0.93509934, 0.99828375],\n       [0.91788079, 0.99713959],\n       [0.89403974, 0.99656751],\n       [0.87417219, 0.99656751],\n       [0.85298013, 0.99427918],\n       [0.82649007, 0.99256293],\n       [0.80397351, 0.9902746 ],\n       [0.79403974, 0.98684211],\n       [0.77019868, 0.98340961],\n       [0.75165563, 0.98169336],\n       [0.72715232, 0.97654462],\n       [0.70529801, 0.97597254],\n       [0.68344371, 0.97311213],\n       [0.66556291, 0.97196796],\n       [0.6410596 , 0.96796339],\n       [0.61788079, 0.96224256],\n       [0.59668874, 0.95480549],\n       [0.57615894, 0.95251716],\n       [0.54834437, 0.94679634],\n       [0.53509934, 0.9416476 ],\n       [0.5192053 , 0.93707094],\n       [0.50596026, 0.93363844],\n       [0.49271523, 0.92448513],\n       [0.47748344, 0.91819222],\n       [0.45761589, 0.91304348],\n       [0.44172185, 0.90732265],\n       [0.42649007, 0.90160183],\n       [0.41258278, 0.89702517],\n       [0.40198675, 0.89187643],\n       [0.39006623, 0.88558352],\n       [0.37748344, 0.88043478],\n       [0.36556291, 0.87070938],\n       [0.35364238, 0.86670481],\n       [0.34238411, 0.86098398],\n       [0.32913907, 0.85640732],\n       [0.31589404, 0.8506865 ],\n       [0.30728477, 0.84324943],\n       [0.2986755 , 0.83466819],\n       [0.28609272, 0.82665904],\n       [0.27682119, 0.8180778 ],\n       [0.26688742, 0.81407323],\n       [0.25960265, 0.80434783],\n       [0.24900662, 0.79576659],\n       [0.24437086, 0.79061785],\n       [0.23509934, 0.78203661],\n       [0.22450331, 0.77688787],\n       [0.21721854, 0.7728833 ],\n       [0.20860927, 0.76430206],\n       [0.19470199, 0.75171625],\n       [0.18741722, 0.74599542],\n       [0.18145695, 0.73684211],\n       [0.17350993, 0.72883295],\n       [0.16688742, 0.72025172],\n       [0.16225166, 0.71281465],\n       [0.15827815, 0.70652174],\n       [0.15364238, 0.69221968],\n       [0.14768212, 0.68649886],\n       [0.1397351 , 0.6784897 ],\n       [0.13509934, 0.67276888],\n       [0.12649007, 0.6590389 ],\n       [0.12317881, 0.65045767],\n       [0.11788079, 0.64016018],\n       [0.11258278, 0.62814645],\n       [0.10927152, 0.60983982],\n       [0.10397351, 0.59553776],\n       [0.0986755 , 0.58237986],\n       [0.09205298, 0.57494279],\n       [0.08807947, 0.55720824],\n       [0.0807947 , 0.54347826],\n       [0.07549669, 0.52974828],\n       [0.06953642, 0.51601831],\n       [0.06423841, 0.50343249],\n       [0.0615894 , 0.49313501],\n       [0.05827815, 0.47540046],\n       [0.04966887, 0.45938215],\n       [0.04635762, 0.44050343],\n       [0.04437086, 0.4221968 ],\n       [0.04238411, 0.40503432],\n       [0.0397351 , 0.3895881 ],\n       [0.0384106 , 0.37242563],\n       [0.03245033, 0.35812357],\n       [0.02913907, 0.34038902],\n       [0.02781457, 0.3215103 ],\n       [0.02450331, 0.30377574],\n       [0.0218543 , 0.27803204],\n       [0.01986755, 0.25228833],\n       [0.0192053 , 0.22768879],\n       [0.01456954, 0.20480549],\n       [0.01192053, 0.17334096],\n       [0.00860927, 0.14759725],\n       [0.00662252, 0.10812357],\n       [0.00596026, 0.07494279],\n       [0.00331126, 0.04347826],\n       [0.        , 0.        ]])"
     },
     "execution_count": 37,
     "metadata": {},
     "output_type": "execute_result"
    }
   ],
   "source": [
    "roc_from_scratch(predictions[:, 1], y_test)"
   ],
   "metadata": {
    "collapsed": false,
    "pycharm": {
     "name": "#%%\n"
    }
   }
  },
  {
   "cell_type": "code",
   "execution_count": 42,
   "outputs": [
    {
     "data": {
      "text/plain": "Text(0, 0.5, 'True Positive Rate')"
     },
     "execution_count": 42,
     "metadata": {},
     "output_type": "execute_result"
    },
    {
     "data": {
      "text/plain": "<Figure size 432x288 with 1 Axes>",
      "image/png": "[encoded data removed]"
     },
     "metadata": {
      "needs_background": "light"
     },
     "output_type": "display_data"
    }
   ],
   "source": [
    "ROC = roc_from_scratch(predictions[:, 1],y_test,partitions=100)\n",
    "plt.plot(ROC[:,0],ROC[:,1])\n",
    "plt.title('ROC Curve',fontsize=20)\n",
    "plt.xlabel('False Positive Rate',fontsize=16)\n",
    "plt.ylabel('True Positive Rate',fontsize=16)"
   ],
   "metadata": {
    "collapsed": false,
    "pycharm": {
     "name": "#%%\n"
    }
   }
  },
  {
   "cell_type": "code",
   "execution_count": 44,
   "outputs": [
    {
     "data": {
      "text/plain": "0.8552392895570332"
     },
     "execution_count": 44,
     "metadata": {},
     "output_type": "execute_result"
    }
   ],
   "source": [
    "partitions = 1000\n",
    "ROC = roc_from_scratch(predictions[:, 1], y_test, partitions=partitions)\n",
    "fpr, tpr = ROC[:, 0], ROC[:, 1]\n",
    "rectangle_roc = 0\n",
    "for k in range(partitions):\n",
    "    rectangle_roc = rectangle_roc + (fpr[k]- fpr[k + 1]) * tpr[k]\n",
    "rectangle_roc"
   ],
   "metadata": {
    "collapsed": false,
    "pycharm": {
     "name": "#%%\n"
    }
   }
  },
  {
   "cell_type": "code",
   "execution_count": 45,
   "outputs": [],
   "source": [
    "def true_false_positive(threshold_vector, y_test_fn):\n",
    "    true_positive = np.equal(threshold_vector, 1) & np.equal(y_test_fn, 1)\n",
    "    true_negative = np.equal(threshold_vector, 0) & np.equal(y_test_fn, 0)\n",
    "    false_positive = np.equal(threshold_vector, 1) & np.equal(y_test_fn, 0)\n",
    "    false_negative = np.equal(threshold_vector, 0) & np.equal(y_test_fn, 1)\n",
    "\n",
    "    precision = true_positive.sum() / (true_positive.sum() + false_positive.sum())\n",
    "    recall = true_positive.sum() / (true_positive.sum() + false_negative.sum())\n",
    "\n",
    "    return precision, recall"
   ],
   "metadata": {
    "collapsed": false,
    "pycharm": {
     "name": "#%%\n"
    }
   }
  },
  {
   "cell_type": "code",
   "execution_count": 46,
   "outputs": [],
   "source": [
    "def precision_recall_curve(threshold_vector, y_test_fn, partitions=100):\n",
    "    roc = np.array([])\n",
    "    for i in range(partitions + 1):\n",
    "\n",
    "        threshold_vector = np.greater_equal(probabilities, i / partitions).astype(int)\n",
    "        precision, recall = true_false_positive(threshold_vector, y_test_fn)\n",
    "        roc = np.append(roc, [precision, recall])\n",
    "\n",
    "    return roc.reshape(-1, 2)"
   ],
   "metadata": {
    "collapsed": false,
    "pycharm": {
     "name": "#%%\n"
    }
   }
  },
  {
   "cell_type": "code",
   "execution_count": 48,
   "outputs": [
    {
     "name": "stderr",
     "output_type": "stream",
     "text": [
      "/var/folders/mh/7pw9bt550yzckllnzm5vbjp00000gn/T/ipykernel_4660/3884447526.py:7: RuntimeWarning: invalid value encountered in long_scalars\n",
      "  precision = true_positive.sum() / (true_positive.sum() + false_positive.sum())\n"
     ]
    },
    {
     "data": {
      "text/plain": "Text(0, 0.5, 'Recall')"
     },
     "execution_count": 48,
     "metadata": {},
     "output_type": "execute_result"
    },
    {
     "data": {
      "text/plain": "<Figure size 432x288 with 1 Axes>",
      "image/png": "[encoded data removed]"
     },
     "metadata": {
      "needs_background": "light"
     },
     "output_type": "display_data"
    }
   ],
   "source": [
    "ROC = roc_from_scratch(predictions[:, 1],y_test,partitions=100)\n",
    "plt.plot(ROC[:,1],ROC[:,0])\n",
    "plt.title('Precision — Recall Curve',fontsize=20)\n",
    "plt.xlabel('Precision',fontsize=16)\n",
    "plt.ylabel('Recall',fontsize=16)"
   ],
   "metadata": {
    "collapsed": false,
    "pycharm": {
     "name": "#%%\n"
    }
   }
  },
  {
   "cell_type": "code",
   "execution_count": null,
   "outputs": [],
   "source": [],
   "metadata": {
    "collapsed": false,
    "pycharm": {
     "name": "#%%\n"
    }
   }
  }
 ],
 "metadata": {
  "kernelspec": {
   "display_name": "Python 3",
   "language": "python",
   "name": "python3"
  },
  "language_info": {
   "codemirror_mode": {
    "name": "ipython",
    "version": 3
   },
   "file_extension": ".py",
   "mimetype": "text/x-python",
   "name": "python",
   "nbconvert_exporter": "python",
   "pygments_lexer": "ipython3",
   "version": "3.7.6"
  }
 },
 "nbformat": 4,
 "nbformat_minor": 2
}