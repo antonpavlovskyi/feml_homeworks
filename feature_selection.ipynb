{
 "cells": [
  {
   "cell_type": "code",
   "execution_count": 1,
   "metadata": {
    "collapsed": true
   },
   "outputs": [],
   "source": [
    "from sklearn.datasets import fetch_covtype\n",
    "from sklearn.tree import DecisionTreeRegressor\n",
    "from sklearn.ensemble import RandomForestClassifier\n",
    "from sklearn.preprocessing import StandardScaler\n",
    "from sklearn.model_selection import train_test_split\n",
    "import pandas as pd\n",
    "import matplotlib.pyplot as plt\n",
    "import seaborn as sns"
   ]
  },
  {
   "cell_type": "code",
   "execution_count": 2,
   "outputs": [],
   "source": [
    "forest = fetch_covtype(as_frame=True)\n",
    "data= forest['data']\n",
    "target = forest['target']"
   ],
   "metadata": {
    "collapsed": false,
    "pycharm": {
     "name": "#%%\n"
    }
   }
  },
  {
   "cell_type": "code",
   "execution_count": 5,
   "outputs": [
    {
     "data": {
      "text/plain": "\".. _covtype_dataset:\\n\\nForest covertypes\\n-----------------\\n\\nThe samples in this dataset correspond to 30×30m patches of forest in the US,\\ncollected for the task of predicting each patch's cover type,\\ni.e. the dominant species of tree.\\nThere are seven covertypes, making this a multiclass classification problem.\\nEach sample has 54 features, described on the\\n`dataset's homepage <https://archive.ics.uci.edu/ml/datasets/Covertype>`__.\\nSome of the features are boolean indicators,\\nwhile others are discrete or continuous measurements.\\n\\n**Data Set Characteristics:**\\n\\n    =================   ============\\n    Classes                        7\\n    Samples total             581012\\n    Dimensionality                54\\n    Features                     int\\n    =================   ============\\n\\n:func:`sklearn.datasets.fetch_covtype` will load the covertype dataset;\\nit returns a dictionary-like 'Bunch' object\\nwith the feature matrix in the ``data`` member\\nand the target values in ``target``. If optional argument 'as_frame' is\\nset to 'True', it will return ``data`` and ``target`` as pandas\\ndata frame, and there will be an additional member ``frame`` as well.\\nThe dataset will be downloaded from the web if necessary.\\n\""
     },
     "execution_count": 5,
     "metadata": {},
     "output_type": "execute_result"
    }
   ],
   "source": [
    "forest.DESCR"
   ],
   "metadata": {
    "collapsed": false,
    "pycharm": {
     "name": "#%%\n"
    }
   }
  },
  {
   "cell_type": "code",
   "execution_count": 6,
   "outputs": [
    {
     "name": "stdout",
     "output_type": "stream",
     "text": [
      "<class 'pandas.core.frame.DataFrame'>\n",
      "RangeIndex: 581012 entries, 0 to 581011\n",
      "Data columns (total 54 columns):\n",
      " #   Column                              Non-Null Count   Dtype  \n",
      "---  ------                              --------------   -----  \n",
      " 0   Elevation                           581012 non-null  float64\n",
      " 1   Aspect                              581012 non-null  float64\n",
      " 2   Slope                               581012 non-null  float64\n",
      " 3   Horizontal_Distance_To_Hydrology    581012 non-null  float64\n",
      " 4   Vertical_Distance_To_Hydrology      581012 non-null  float64\n",
      " 5   Horizontal_Distance_To_Roadways     581012 non-null  float64\n",
      " 6   Hillshade_9am                       581012 non-null  float64\n",
      " 7   Hillshade_Noon                      581012 non-null  float64\n",
      " 8   Hillshade_3pm                       581012 non-null  float64\n",
      " 9   Horizontal_Distance_To_Fire_Points  581012 non-null  float64\n",
      " 10  Wilderness_Area_0                   581012 non-null  float64\n",
      " 11  Wilderness_Area_1                   581012 non-null  float64\n",
      " 12  Wilderness_Area_2                   581012 non-null  float64\n",
      " 13  Wilderness_Area_3                   581012 non-null  float64\n",
      " 14  Soil_Type_0                         581012 non-null  float64\n",
      " 15  Soil_Type_1                         581012 non-null  float64\n",
      " 16  Soil_Type_2                         581012 non-null  float64\n",
      " 17  Soil_Type_3                         581012 non-null  float64\n",
      " 18  Soil_Type_4                         581012 non-null  float64\n",
      " 19  Soil_Type_5                         581012 non-null  float64\n",
      " 20  Soil_Type_6                         581012 non-null  float64\n",
      " 21  Soil_Type_7                         581012 non-null  float64\n",
      " 22  Soil_Type_8                         581012 non-null  float64\n",
      " 23  Soil_Type_9                         581012 non-null  float64\n",
      " 24  Soil_Type_10                        581012 non-null  float64\n",
      " 25  Soil_Type_11                        581012 non-null  float64\n",
      " 26  Soil_Type_12                        581012 non-null  float64\n",
      " 27  Soil_Type_13                        581012 non-null  float64\n",
      " 28  Soil_Type_14                        581012 non-null  float64\n",
      " 29  Soil_Type_15                        581012 non-null  float64\n",
      " 30  Soil_Type_16                        581012 non-null  float64\n",
      " 31  Soil_Type_17                        581012 non-null  float64\n",
      " 32  Soil_Type_18                        581012 non-null  float64\n",
      " 33  Soil_Type_19                        581012 non-null  float64\n",
      " 34  Soil_Type_20                        581012 non-null  float64\n",
      " 35  Soil_Type_21                        581012 non-null  float64\n",
      " 36  Soil_Type_22                        581012 non-null  float64\n",
      " 37  Soil_Type_23                        581012 non-null  float64\n",
      " 38  Soil_Type_24                        581012 non-null  float64\n",
      " 39  Soil_Type_25                        581012 non-null  float64\n",
      " 40  Soil_Type_26                        581012 non-null  float64\n",
      " 41  Soil_Type_27                        581012 non-null  float64\n",
      " 42  Soil_Type_28                        581012 non-null  float64\n",
      " 43  Soil_Type_29                        581012 non-null  float64\n",
      " 44  Soil_Type_30                        581012 non-null  float64\n",
      " 45  Soil_Type_31                        581012 non-null  float64\n",
      " 46  Soil_Type_32                        581012 non-null  float64\n",
      " 47  Soil_Type_33                        581012 non-null  float64\n",
      " 48  Soil_Type_34                        581012 non-null  float64\n",
      " 49  Soil_Type_35                        581012 non-null  float64\n",
      " 50  Soil_Type_36                        581012 non-null  float64\n",
      " 51  Soil_Type_37                        581012 non-null  float64\n",
      " 52  Soil_Type_38                        581012 non-null  float64\n",
      " 53  Soil_Type_39                        581012 non-null  float64\n",
      "dtypes: float64(54)\n",
      "memory usage: 239.4 MB\n"
     ]
    }
   ],
   "source": [
    "data.info()"
   ],
   "metadata": {
    "collapsed": false,
    "pycharm": {
     "name": "#%%\n"
    }
   }
  },
  {
   "cell_type": "code",
   "execution_count": 7,
   "outputs": [
    {
     "data": {
      "text/plain": "   Elevation  Aspect  Slope  Horizontal_Distance_To_Hydrology  \\\n0     2596.0    51.0    3.0                             258.0   \n1     2590.0    56.0    2.0                             212.0   \n2     2804.0   139.0    9.0                             268.0   \n3     2785.0   155.0   18.0                             242.0   \n4     2595.0    45.0    2.0                             153.0   \n\n   Vertical_Distance_To_Hydrology  Horizontal_Distance_To_Roadways  \\\n0                             0.0                            510.0   \n1                            -6.0                            390.0   \n2                            65.0                           3180.0   \n3                           118.0                           3090.0   \n4                            -1.0                            391.0   \n\n   Hillshade_9am  Hillshade_Noon  Hillshade_3pm  \\\n0          221.0           232.0          148.0   \n1          220.0           235.0          151.0   \n2          234.0           238.0          135.0   \n3          238.0           238.0          122.0   \n4          220.0           234.0          150.0   \n\n   Horizontal_Distance_To_Fire_Points  ...  Soil_Type_30  Soil_Type_31  \\\n0                              6279.0  ...           0.0           0.0   \n1                              6225.0  ...           0.0           0.0   \n2                              6121.0  ...           0.0           0.0   \n3                              6211.0  ...           0.0           0.0   \n4                              6172.0  ...           0.0           0.0   \n\n   Soil_Type_32  Soil_Type_33  Soil_Type_34  Soil_Type_35  Soil_Type_36  \\\n0           0.0           0.0           0.0           0.0           0.0   \n1           0.0           0.0           0.0           0.0           0.0   \n2           0.0           0.0           0.0           0.0           0.0   \n3           0.0           0.0           0.0           0.0           0.0   \n4           0.0           0.0           0.0           0.0           0.0   \n\n   Soil_Type_37  Soil_Type_38  Soil_Type_39  \n0           0.0           0.0           0.0  \n1           0.0           0.0           0.0  \n2           0.0           0.0           0.0  \n3           0.0           0.0           0.0  \n4           0.0           0.0           0.0  \n\n[5 rows x 54 columns]",
      "text/html": "<div>\n<style scoped>\n    .dataframe tbody tr th:only-of-type {\n        vertical-align: middle;\n    }\n\n    .dataframe tbody tr th {\n        vertical-align: top;\n    }\n\n    .dataframe thead th {\n        text-align: right;\n    }\n</style>\n<table border=\"1\" class=\"dataframe\">\n  <thead>\n    <tr style=\"text-align: right;\">\n      <th></th>\n      <th>Elevation</th>\n      <th>Aspect</th>\n      <th>Slope</th>\n      <th>Horizontal_Distance_To_Hydrology</th>\n      <th>Vertical_Distance_To_Hydrology</th>\n      <th>Horizontal_Distance_To_Roadways</th>\n      <th>Hillshade_9am</th>\n      <th>Hillshade_Noon</th>\n      <th>Hillshade_3pm</th>\n      <th>Horizontal_Distance_To_Fire_Points</th>\n      <th>...</th>\n      <th>Soil_Type_30</th>\n      <th>Soil_Type_31</th>\n      <th>Soil_Type_32</th>\n      <th>Soil_Type_33</th>\n      <th>Soil_Type_34</th>\n      <th>Soil_Type_35</th>\n      <th>Soil_Type_36</th>\n      <th>Soil_Type_37</th>\n      <th>Soil_Type_38</th>\n      <th>Soil_Type_39</th>\n    </tr>\n  </thead>\n  <tbody>\n    <tr>\n      <th>0</th>\n      <td>2596.0</td>\n      <td>51.0</td>\n      <td>3.0</td>\n      <td>258.0</td>\n      <td>0.0</td>\n      <td>510.0</td>\n      <td>221.0</td>\n      <td>232.0</td>\n      <td>148.0</td>\n      <td>6279.0</td>\n      <td>...</td>\n      <td>0.0</td>\n      <td>0.0</td>\n      <td>0.0</td>\n      <td>0.0</td>\n      <td>0.0</td>\n      <td>0.0</td>\n      <td>0.0</td>\n      <td>0.0</td>\n      <td>0.0</td>\n      <td>0.0</td>\n    </tr>\n    <tr>\n      <th>1</th>\n      <td>2590.0</td>\n      <td>56.0</td>\n      <td>2.0</td>\n      <td>212.0</td>\n      <td>-6.0</td>\n      <td>390.0</td>\n      <td>220.0</td>\n      <td>235.0</td>\n      <td>151.0</td>\n      <td>6225.0</td>\n      <td>...</td>\n      <td>0.0</td>\n      <td>0.0</td>\n      <td>0.0</td>\n      <td>0.0</td>\n      <td>0.0</td>\n      <td>0.0</td>\n      <td>0.0</td>\n      <td>0.0</td>\n      <td>0.0</td>\n      <td>0.0</td>\n    </tr>\n    <tr>\n      <th>2</th>\n      <td>2804.0</td>\n      <td>139.0</td>\n      <td>9.0</td>\n      <td>268.0</td>\n      <td>65.0</td>\n      <td>3180.0</td>\n      <td>234.0</td>\n      <td>238.0</td>\n      <td>135.0</td>\n      <td>6121.0</td>\n      <td>...</td>\n      <td>0.0</td>\n      <td>0.0</td>\n      <td>0.0</td>\n      <td>0.0</td>\n      <td>0.0</td>\n      <td>0.0</td>\n      <td>0.0</td>\n      <td>0.0</td>\n      <td>0.0</td>\n      <td>0.0</td>\n    </tr>\n    <tr>\n      <th>3</th>\n      <td>2785.0</td>\n      <td>155.0</td>\n      <td>18.0</td>\n      <td>242.0</td>\n      <td>118.0</td>\n      <td>3090.0</td>\n      <td>238.0</td>\n      <td>238.0</td>\n      <td>122.0</td>\n      <td>6211.0</td>\n      <td>...</td>\n      <td>0.0</td>\n      <td>0.0</td>\n      <td>0.0</td>\n      <td>0.0</td>\n      <td>0.0</td>\n      <td>0.0</td>\n      <td>0.0</td>\n      <td>0.0</td>\n      <td>0.0</td>\n      <td>0.0</td>\n    </tr>\n    <tr>\n      <th>4</th>\n      <td>2595.0</td>\n      <td>45.0</td>\n      <td>2.0</td>\n      <td>153.0</td>\n      <td>-1.0</td>\n      <td>391.0</td>\n      <td>220.0</td>\n      <td>234.0</td>\n      <td>150.0</td>\n      <td>6172.0</td>\n      <td>...</td>\n      <td>0.0</td>\n      <td>0.0</td>\n      <td>0.0</td>\n      <td>0.0</td>\n      <td>0.0</td>\n      <td>0.0</td>\n      <td>0.0</td>\n      <td>0.0</td>\n      <td>0.0</td>\n      <td>0.0</td>\n    </tr>\n  </tbody>\n</table>\n<p>5 rows × 54 columns</p>\n</div>"
     },
     "execution_count": 7,
     "metadata": {},
     "output_type": "execute_result"
    }
   ],
   "source": [
    "data.head()"
   ],
   "metadata": {
    "collapsed": false,
    "pycharm": {
     "name": "#%%\n"
    }
   }
  },
  {
   "cell_type": "markdown",
   "source": [
    "## Корреляция признаков и отбор по величине корреляции"
   ],
   "metadata": {
    "collapsed": false
   }
  },
  {
   "cell_type": "code",
   "execution_count": 9,
   "outputs": [
    {
     "data": {
      "text/plain": "                               feature  correlation_with_target\n0                    Wilderness_Area_3                 0.323200\n1                            Elevation                 0.269554\n2                          Soil_Type_9                 0.243876\n3                    Wilderness_Area_0                 0.203913\n4                         Soil_Type_37                 0.160170\n5                         Soil_Type_38                 0.155668\n6      Horizontal_Distance_To_Roadways                 0.153450\n7                                Slope                 0.148285\n8                         Soil_Type_21                 0.141746\n9                         Soil_Type_22                 0.135055\n10                        Soil_Type_39                 0.128351\n11                        Soil_Type_28                 0.124933\n12                         Soil_Type_1                 0.118135\n13                         Soil_Type_5                 0.112958\n14  Horizontal_Distance_To_Fire_Points                 0.108936\n15                         Soil_Type_3                 0.099672\n16                      Hillshade_Noon                 0.096426\n17                         Soil_Type_0                 0.090828\n18                        Soil_Type_16                 0.090582\n19      Vertical_Distance_To_Hydrology                 0.081664\n20                        Soil_Type_34                 0.080315\n21                        Soil_Type_36                 0.080271\n22                         Soil_Type_4                 0.077890\n23                        Soil_Type_31                 0.075562\n24                        Soil_Type_23                 0.068746\n25                         Soil_Type_2                 0.068064\n26                   Wilderness_Area_2                 0.066846\n27                        Soil_Type_13                 0.065562\n28                        Soil_Type_30                 0.065347\n29                        Soil_Type_32                 0.062502\n30                       Hillshade_3pm                 0.048290\n31                   Wilderness_Area_1                 0.048059\n32                        Soil_Type_18                 0.036452\n33                       Hillshade_9am                 0.035415\n34                        Soil_Type_10                 0.035379\n35                        Soil_Type_19                 0.028665\n36                        Soil_Type_20                 0.025400\n37                        Soil_Type_35                 0.025397\n38                        Soil_Type_12                 0.024404\n39                        Soil_Type_11                 0.023601\n40    Horizontal_Distance_To_Hydrology                 0.020317\n41                              Aspect                 0.017080\n42                        Soil_Type_26                 0.014407\n43                        Soil_Type_29                 0.010436\n44                        Soil_Type_15                 0.009844\n45                        Soil_Type_17                 0.007390\n46                        Soil_Type_24                 0.006449\n47                        Soil_Type_14                 0.006425\n48                         Soil_Type_8                 0.006110\n49                        Soil_Type_33                 0.004643\n50                         Soil_Type_7                 0.003667\n51                        Soil_Type_27                 0.001702\n52                         Soil_Type_6                 0.000496\n53                        Soil_Type_25                 0.000375",
      "text/html": "<div>\n<style scoped>\n    .dataframe tbody tr th:only-of-type {\n        vertical-align: middle;\n    }\n\n    .dataframe tbody tr th {\n        vertical-align: top;\n    }\n\n    .dataframe thead th {\n        text-align: right;\n    }\n</style>\n<table border=\"1\" class=\"dataframe\">\n  <thead>\n    <tr style=\"text-align: right;\">\n      <th></th>\n      <th>feature</th>\n      <th>correlation_with_target</th>\n    </tr>\n  </thead>\n  <tbody>\n    <tr>\n      <th>0</th>\n      <td>Wilderness_Area_3</td>\n      <td>0.323200</td>\n    </tr>\n    <tr>\n      <th>1</th>\n      <td>Elevation</td>\n      <td>0.269554</td>\n    </tr>\n    <tr>\n      <th>2</th>\n      <td>Soil_Type_9</td>\n      <td>0.243876</td>\n    </tr>\n    <tr>\n      <th>3</th>\n      <td>Wilderness_Area_0</td>\n      <td>0.203913</td>\n    </tr>\n    <tr>\n      <th>4</th>\n      <td>Soil_Type_37</td>\n      <td>0.160170</td>\n    </tr>\n    <tr>\n      <th>5</th>\n      <td>Soil_Type_38</td>\n      <td>0.155668</td>\n    </tr>\n    <tr>\n      <th>6</th>\n      <td>Horizontal_Distance_To_Roadways</td>\n      <td>0.153450</td>\n    </tr>\n    <tr>\n      <th>7</th>\n      <td>Slope</td>\n      <td>0.148285</td>\n    </tr>\n    <tr>\n      <th>8</th>\n      <td>Soil_Type_21</td>\n      <td>0.141746</td>\n    </tr>\n    <tr>\n      <th>9</th>\n      <td>Soil_Type_22</td>\n      <td>0.135055</td>\n    </tr>\n    <tr>\n      <th>10</th>\n      <td>Soil_Type_39</td>\n      <td>0.128351</td>\n    </tr>\n    <tr>\n      <th>11</th>\n      <td>Soil_Type_28</td>\n      <td>0.124933</td>\n    </tr>\n    <tr>\n      <th>12</th>\n      <td>Soil_Type_1</td>\n      <td>0.118135</td>\n    </tr>\n    <tr>\n      <th>13</th>\n      <td>Soil_Type_5</td>\n      <td>0.112958</td>\n    </tr>\n    <tr>\n      <th>14</th>\n      <td>Horizontal_Distance_To_Fire_Points</td>\n      <td>0.108936</td>\n    </tr>\n    <tr>\n      <th>15</th>\n      <td>Soil_Type_3</td>\n      <td>0.099672</td>\n    </tr>\n    <tr>\n      <th>16</th>\n      <td>Hillshade_Noon</td>\n      <td>0.096426</td>\n    </tr>\n    <tr>\n      <th>17</th>\n      <td>Soil_Type_0</td>\n      <td>0.090828</td>\n    </tr>\n    <tr>\n      <th>18</th>\n      <td>Soil_Type_16</td>\n      <td>0.090582</td>\n    </tr>\n    <tr>\n      <th>19</th>\n      <td>Vertical_Distance_To_Hydrology</td>\n      <td>0.081664</td>\n    </tr>\n    <tr>\n      <th>20</th>\n      <td>Soil_Type_34</td>\n      <td>0.080315</td>\n    </tr>\n    <tr>\n      <th>21</th>\n      <td>Soil_Type_36</td>\n      <td>0.080271</td>\n    </tr>\n    <tr>\n      <th>22</th>\n      <td>Soil_Type_4</td>\n      <td>0.077890</td>\n    </tr>\n    <tr>\n      <th>23</th>\n      <td>Soil_Type_31</td>\n      <td>0.075562</td>\n    </tr>\n    <tr>\n      <th>24</th>\n      <td>Soil_Type_23</td>\n      <td>0.068746</td>\n    </tr>\n    <tr>\n      <th>25</th>\n      <td>Soil_Type_2</td>\n      <td>0.068064</td>\n    </tr>\n    <tr>\n      <th>26</th>\n      <td>Wilderness_Area_2</td>\n      <td>0.066846</td>\n    </tr>\n    <tr>\n      <th>27</th>\n      <td>Soil_Type_13</td>\n      <td>0.065562</td>\n    </tr>\n    <tr>\n      <th>28</th>\n      <td>Soil_Type_30</td>\n      <td>0.065347</td>\n    </tr>\n    <tr>\n      <th>29</th>\n      <td>Soil_Type_32</td>\n      <td>0.062502</td>\n    </tr>\n    <tr>\n      <th>30</th>\n      <td>Hillshade_3pm</td>\n      <td>0.048290</td>\n    </tr>\n    <tr>\n      <th>31</th>\n      <td>Wilderness_Area_1</td>\n      <td>0.048059</td>\n    </tr>\n    <tr>\n      <th>32</th>\n      <td>Soil_Type_18</td>\n      <td>0.036452</td>\n    </tr>\n    <tr>\n      <th>33</th>\n      <td>Hillshade_9am</td>\n      <td>0.035415</td>\n    </tr>\n    <tr>\n      <th>34</th>\n      <td>Soil_Type_10</td>\n      <td>0.035379</td>\n    </tr>\n    <tr>\n      <th>35</th>\n      <td>Soil_Type_19</td>\n      <td>0.028665</td>\n    </tr>\n    <tr>\n      <th>36</th>\n      <td>Soil_Type_20</td>\n      <td>0.025400</td>\n    </tr>\n    <tr>\n      <th>37</th>\n      <td>Soil_Type_35</td>\n      <td>0.025397</td>\n    </tr>\n    <tr>\n      <th>38</th>\n      <td>Soil_Type_12</td>\n      <td>0.024404</td>\n    </tr>\n    <tr>\n      <th>39</th>\n      <td>Soil_Type_11</td>\n      <td>0.023601</td>\n    </tr>\n    <tr>\n      <th>40</th>\n      <td>Horizontal_Distance_To_Hydrology</td>\n      <td>0.020317</td>\n    </tr>\n    <tr>\n      <th>41</th>\n      <td>Aspect</td>\n      <td>0.017080</td>\n    </tr>\n    <tr>\n      <th>42</th>\n      <td>Soil_Type_26</td>\n      <td>0.014407</td>\n    </tr>\n    <tr>\n      <th>43</th>\n      <td>Soil_Type_29</td>\n      <td>0.010436</td>\n    </tr>\n    <tr>\n      <th>44</th>\n      <td>Soil_Type_15</td>\n      <td>0.009844</td>\n    </tr>\n    <tr>\n      <th>45</th>\n      <td>Soil_Type_17</td>\n      <td>0.007390</td>\n    </tr>\n    <tr>\n      <th>46</th>\n      <td>Soil_Type_24</td>\n      <td>0.006449</td>\n    </tr>\n    <tr>\n      <th>47</th>\n      <td>Soil_Type_14</td>\n      <td>0.006425</td>\n    </tr>\n    <tr>\n      <th>48</th>\n      <td>Soil_Type_8</td>\n      <td>0.006110</td>\n    </tr>\n    <tr>\n      <th>49</th>\n      <td>Soil_Type_33</td>\n      <td>0.004643</td>\n    </tr>\n    <tr>\n      <th>50</th>\n      <td>Soil_Type_7</td>\n      <td>0.003667</td>\n    </tr>\n    <tr>\n      <th>51</th>\n      <td>Soil_Type_27</td>\n      <td>0.001702</td>\n    </tr>\n    <tr>\n      <th>52</th>\n      <td>Soil_Type_6</td>\n      <td>0.000496</td>\n    </tr>\n    <tr>\n      <th>53</th>\n      <td>Soil_Type_25</td>\n      <td>0.000375</td>\n    </tr>\n  </tbody>\n</table>\n</div>"
     },
     "execution_count": 9,
     "metadata": {},
     "output_type": "execute_result"
    }
   ],
   "source": [
    "corr_with_target = data.corrwith(target).abs().sort_values(ascending=False).reset_index()\n",
    "corr_with_target.rename(columns={'index': 'feature', 0: 'correlation_with_target'}, inplace=True)\n",
    "corr_with_target"
   ],
   "metadata": {
    "collapsed": false,
    "pycharm": {
     "name": "#%%\n"
    }
   }
  },
  {
   "cell_type": "code",
   "execution_count": 3,
   "outputs": [],
   "source": [
    "model = RandomForestClassifier(max_depth=10)\n",
    "scaler = StandardScaler()\n",
    "data_scaled = pd.DataFrame(scaler.fit_transform(data.values),columns = data.columns, index=data.index)\n",
    "comb = data_scaled.join(target)\n",
    "X = data\n",
    "y = target\n",
    "X_train, X_test, y_train, y_test = train_test_split(X, y, test_size=0.3, random_state=42 )"
   ],
   "metadata": {
    "collapsed": false,
    "pycharm": {
     "name": "#%%\n"
    }
   }
  },
  {
   "cell_type": "code",
   "execution_count": 28,
   "outputs": [
    {
     "name": "stdout",
     "output_type": "stream",
     "text": [
      "0.5193627225995961\n",
      "0.6713844776941436\n",
      "0.6724343675417661\n",
      "0.6796688544152745\n",
      "0.6815506241968056\n",
      "0.684843721314485\n",
      "0.7360531026252983\n",
      "0.7781290159720947\n",
      "0.7885131723884707\n",
      "0.8015536074903616\n",
      "0.8007848356893703\n",
      "0.8047606480631541\n",
      "0.8062637690471819\n",
      "0.8056498990269874\n",
      "0.8728428492748301\n",
      "0.8760384156416376\n",
      "0.882412337066275\n",
      "0.8829114650266202\n",
      "0.879876537543602\n",
      "0.8873806682577565\n",
      "0.8858660730677437\n",
      "0.8855161097852029\n",
      "0.88346796401689\n",
      "0.8911040480998715\n",
      "0.892676014319809\n",
      "0.8909778318340371\n",
      "0.8950224894437305\n",
      "0.894156186891867\n",
      "0.8904959151826694\n",
      "0.8952060767394896\n",
      "0.8983901689003121\n",
      "0.8940414448320176\n",
      "0.8907598219203231\n",
      "0.8901287405911511\n",
      "0.891838397282908\n",
      "0.895355241417294\n",
      "0.8934103635028456\n",
      "0.8934161006058381\n",
      "0.8935652652836423\n",
      "0.8898074628235726\n",
      "0.8929800807784102\n",
      "0.8923834220671929\n",
      "0.8948905360749037\n",
      "0.8954986689921057\n",
      "0.8926645401138241\n",
      "0.8907885074352855\n",
      "0.8864569946759684\n",
      "0.8842367358178814\n",
      "0.8939553882871305\n",
      "0.8931579309711768\n",
      "0.8892280154213329\n",
      "0.8916720212961263\n",
      "0.8897041949697081\n"
     ]
    }
   ],
   "source": [
    "X_train_start = X_train[corr_with_target['feature'][0]].to_frame()\n",
    "X_test_start = X_test[corr_with_target['feature'][0]].to_frame()\n",
    "score_list = []\n",
    "for corr in range(1, len(corr_with_target)+1):\n",
    "    X_train_part = X_train_start\n",
    "    X_test_part = X_test_start\n",
    "    model.fit(X_train_part, y_train)\n",
    "    score_ = model.score(X_test_part, y_test)\n",
    "    score_list.append(score_)\n",
    "    if corr == 54:\n",
    "        break\n",
    "    else:\n",
    "        X_train_start = X_train_start.join(X_train[corr_with_target['feature'][corr]])\n",
    "        X_test_start = X_test_start.join(X_test[corr_with_target['feature'][corr]])\n",
    "    print(score_)"
   ],
   "metadata": {
    "collapsed": false,
    "pycharm": {
     "name": "#%%\n"
    }
   }
  },
  {
   "cell_type": "code",
   "execution_count": 30,
   "outputs": [
    {
     "data": {
      "text/plain": "Text(0, 0.5, 'score')"
     },
     "execution_count": 30,
     "metadata": {},
     "output_type": "execute_result"
    },
    {
     "data": {
      "text/plain": "<Figure size 432x288 with 1 Axes>",
      "image/png": "[encoded data removed]"
     },
     "metadata": {
      "needs_background": "light"
     },
     "output_type": "display_data"
    }
   ],
   "source": [
    "sns.lineplot(x=range(len(corr_with_target)), y=score_list)\n",
    "plt.xlabel('number of features')\n",
    "plt.ylabel('score')"
   ],
   "metadata": {
    "collapsed": false,
    "pycharm": {
     "name": "#%%\n"
    }
   }
  },
  {
   "cell_type": "markdown",
   "source": [
    "## Отбор признаков на основе Information Value"
   ],
   "metadata": {
    "collapsed": false
   }
  },
  {
   "cell_type": "markdown",
   "source": [
    "### На сколько я понял Information Value можно посчитать только когда целевая переменная бинарная, что не верно в нашем случае."
   ],
   "metadata": {
    "collapsed": false
   }
  },
  {
   "cell_type": "markdown",
   "source": [
    "## Отбор признаков на основе feature_impotance от алгоритма RandomForest"
   ],
   "metadata": {
    "collapsed": false
   }
  },
  {
   "cell_type": "code",
   "execution_count": 31,
   "outputs": [
    {
     "data": {
      "text/plain": "RandomForestClassifier(max_depth=20)"
     },
     "execution_count": 31,
     "metadata": {},
     "output_type": "execute_result"
    }
   ],
   "source": [
    "model.fit(X_train, y_train)"
   ],
   "metadata": {
    "collapsed": false,
    "pycharm": {
     "name": "#%%\n"
    }
   }
  },
  {
   "cell_type": "code",
   "execution_count": 33,
   "outputs": [
    {
     "data": {
      "text/plain": "array([2.98593195e-01, 3.54042490e-02, 2.34100368e-02, 4.72975209e-02,\n       4.21912165e-02, 9.82176570e-02, 3.00531778e-02, 3.38863885e-02,\n       2.95284846e-02, 8.71646451e-02, 1.56037907e-02, 8.16300265e-03,\n       1.58852589e-02, 4.39530918e-02, 1.80649879e-03, 1.32192651e-02,\n       2.88305627e-03, 1.80616947e-02, 7.62865086e-04, 3.82342563e-03,\n       1.43588114e-05, 2.87619598e-05, 1.00785478e-04, 1.92556365e-02,\n       3.12259410e-03, 1.51737286e-02, 4.28583850e-03, 3.75207815e-04,\n       4.01317540e-06, 7.29488909e-04, 1.89661775e-03, 4.59540161e-04,\n       6.81125531e-04, 1.72977918e-03, 7.71877984e-04, 2.03117661e-02,\n       1.35413949e-02, 3.60015768e-03, 2.36659808e-04, 2.82075879e-04,\n       5.00982557e-04, 1.31476009e-04, 5.99253858e-03, 3.21884996e-03,\n       3.17615086e-03, 5.18113584e-03, 3.51902403e-03, 5.46525891e-04,\n       1.95747569e-03, 6.74538453e-05, 6.91643835e-04, 1.48786943e-02,\n       1.54535500e-02, 8.17456921e-03])"
     },
     "execution_count": 33,
     "metadata": {},
     "output_type": "execute_result"
    }
   ],
   "source": [
    "importances = model.feature_importances_\n",
    "importances"
   ],
   "metadata": {
    "collapsed": false,
    "pycharm": {
     "name": "#%%\n"
    }
   }
  },
  {
   "cell_type": "code",
   "execution_count": 48,
   "outputs": [
    {
     "data": {
      "text/plain": "    importance                             feature\n0     0.298593                           Elevation\n5     0.098218     Horizontal_Distance_To_Roadways\n9     0.087165  Horizontal_Distance_To_Fire_Points\n3     0.047298    Horizontal_Distance_To_Hydrology\n13    0.043953                   Wilderness_Area_3\n4     0.042191      Vertical_Distance_To_Hydrology\n1     0.035404                              Aspect\n7     0.033886                      Hillshade_Noon\n6     0.030053                       Hillshade_9am\n8     0.029528                       Hillshade_3pm\n2     0.023410                               Slope\n35    0.020312                        Soil_Type_21\n23    0.019256                         Soil_Type_9\n17    0.018062                         Soil_Type_3\n12    0.015885                   Wilderness_Area_2\n10    0.015604                   Wilderness_Area_0\n52    0.015454                        Soil_Type_38\n25    0.015174                        Soil_Type_11\n51    0.014879                        Soil_Type_37\n36    0.013541                        Soil_Type_22\n15    0.013219                         Soil_Type_1\n53    0.008175                        Soil_Type_39\n11    0.008163                   Wilderness_Area_1\n42    0.005993                        Soil_Type_28\n45    0.005181                        Soil_Type_31\n26    0.004286                        Soil_Type_12\n19    0.003823                         Soil_Type_5\n37    0.003600                        Soil_Type_23\n46    0.003519                        Soil_Type_32\n43    0.003219                        Soil_Type_29\n44    0.003176                        Soil_Type_30\n24    0.003123                        Soil_Type_10\n16    0.002883                         Soil_Type_2\n48    0.001957                        Soil_Type_34\n30    0.001897                        Soil_Type_16\n14    0.001806                         Soil_Type_0\n33    0.001730                        Soil_Type_19\n34    0.000772                        Soil_Type_20\n18    0.000763                         Soil_Type_4\n29    0.000729                        Soil_Type_15\n50    0.000692                        Soil_Type_36\n32    0.000681                        Soil_Type_18\n47    0.000547                        Soil_Type_33\n40    0.000501                        Soil_Type_26\n31    0.000460                        Soil_Type_17\n27    0.000375                        Soil_Type_13\n39    0.000282                        Soil_Type_25\n38    0.000237                        Soil_Type_24\n41    0.000131                        Soil_Type_27\n22    0.000101                         Soil_Type_8\n49    0.000067                        Soil_Type_35\n21    0.000029                         Soil_Type_7\n20    0.000014                         Soil_Type_6\n28    0.000004                        Soil_Type_14",
      "text/html": "<div>\n<style scoped>\n    .dataframe tbody tr th:only-of-type {\n        vertical-align: middle;\n    }\n\n    .dataframe tbody tr th {\n        vertical-align: top;\n    }\n\n    .dataframe thead th {\n        text-align: right;\n    }\n</style>\n<table border=\"1\" class=\"dataframe\">\n  <thead>\n    <tr style=\"text-align: right;\">\n      <th></th>\n      <th>importance</th>\n      <th>feature</th>\n    </tr>\n  </thead>\n  <tbody>\n    <tr>\n      <th>0</th>\n      <td>0.298593</td>\n      <td>Elevation</td>\n    </tr>\n    <tr>\n      <th>5</th>\n      <td>0.098218</td>\n      <td>Horizontal_Distance_To_Roadways</td>\n    </tr>\n    <tr>\n      <th>9</th>\n      <td>0.087165</td>\n      <td>Horizontal_Distance_To_Fire_Points</td>\n    </tr>\n    <tr>\n      <th>3</th>\n      <td>0.047298</td>\n      <td>Horizontal_Distance_To_Hydrology</td>\n    </tr>\n    <tr>\n      <th>13</th>\n      <td>0.043953</td>\n      <td>Wilderness_Area_3</td>\n    </tr>\n    <tr>\n      <th>4</th>\n      <td>0.042191</td>\n      <td>Vertical_Distance_To_Hydrology</td>\n    </tr>\n    <tr>\n      <th>1</th>\n      <td>0.035404</td>\n      <td>Aspect</td>\n    </tr>\n    <tr>\n      <th>7</th>\n      <td>0.033886</td>\n      <td>Hillshade_Noon</td>\n    </tr>\n    <tr>\n      <th>6</th>\n      <td>0.030053</td>\n      <td>Hillshade_9am</td>\n    </tr>\n    <tr>\n      <th>8</th>\n      <td>0.029528</td>\n      <td>Hillshade_3pm</td>\n    </tr>\n    <tr>\n      <th>2</th>\n      <td>0.023410</td>\n      <td>Slope</td>\n    </tr>\n    <tr>\n      <th>35</th>\n      <td>0.020312</td>\n      <td>Soil_Type_21</td>\n    </tr>\n    <tr>\n      <th>23</th>\n      <td>0.019256</td>\n      <td>Soil_Type_9</td>\n    </tr>\n    <tr>\n      <th>17</th>\n      <td>0.018062</td>\n      <td>Soil_Type_3</td>\n    </tr>\n    <tr>\n      <th>12</th>\n      <td>0.015885</td>\n      <td>Wilderness_Area_2</td>\n    </tr>\n    <tr>\n      <th>10</th>\n      <td>0.015604</td>\n      <td>Wilderness_Area_0</td>\n    </tr>\n    <tr>\n      <th>52</th>\n      <td>0.015454</td>\n      <td>Soil_Type_38</td>\n    </tr>\n    <tr>\n      <th>25</th>\n      <td>0.015174</td>\n      <td>Soil_Type_11</td>\n    </tr>\n    <tr>\n      <th>51</th>\n      <td>0.014879</td>\n      <td>Soil_Type_37</td>\n    </tr>\n    <tr>\n      <th>36</th>\n      <td>0.013541</td>\n      <td>Soil_Type_22</td>\n    </tr>\n    <tr>\n      <th>15</th>\n      <td>0.013219</td>\n      <td>Soil_Type_1</td>\n    </tr>\n    <tr>\n      <th>53</th>\n      <td>0.008175</td>\n      <td>Soil_Type_39</td>\n    </tr>\n    <tr>\n      <th>11</th>\n      <td>0.008163</td>\n      <td>Wilderness_Area_1</td>\n    </tr>\n    <tr>\n      <th>42</th>\n      <td>0.005993</td>\n      <td>Soil_Type_28</td>\n    </tr>\n    <tr>\n      <th>45</th>\n      <td>0.005181</td>\n      <td>Soil_Type_31</td>\n    </tr>\n    <tr>\n      <th>26</th>\n      <td>0.004286</td>\n      <td>Soil_Type_12</td>\n    </tr>\n    <tr>\n      <th>19</th>\n      <td>0.003823</td>\n      <td>Soil_Type_5</td>\n    </tr>\n    <tr>\n      <th>37</th>\n      <td>0.003600</td>\n      <td>Soil_Type_23</td>\n    </tr>\n    <tr>\n      <th>46</th>\n      <td>0.003519</td>\n      <td>Soil_Type_32</td>\n    </tr>\n    <tr>\n      <th>43</th>\n      <td>0.003219</td>\n      <td>Soil_Type_29</td>\n    </tr>\n    <tr>\n      <th>44</th>\n      <td>0.003176</td>\n      <td>Soil_Type_30</td>\n    </tr>\n    <tr>\n      <th>24</th>\n      <td>0.003123</td>\n      <td>Soil_Type_10</td>\n    </tr>\n    <tr>\n      <th>16</th>\n      <td>0.002883</td>\n      <td>Soil_Type_2</td>\n    </tr>\n    <tr>\n      <th>48</th>\n      <td>0.001957</td>\n      <td>Soil_Type_34</td>\n    </tr>\n    <tr>\n      <th>30</th>\n      <td>0.001897</td>\n      <td>Soil_Type_16</td>\n    </tr>\n    <tr>\n      <th>14</th>\n      <td>0.001806</td>\n      <td>Soil_Type_0</td>\n    </tr>\n    <tr>\n      <th>33</th>\n      <td>0.001730</td>\n      <td>Soil_Type_19</td>\n    </tr>\n    <tr>\n      <th>34</th>\n      <td>0.000772</td>\n      <td>Soil_Type_20</td>\n    </tr>\n    <tr>\n      <th>18</th>\n      <td>0.000763</td>\n      <td>Soil_Type_4</td>\n    </tr>\n    <tr>\n      <th>29</th>\n      <td>0.000729</td>\n      <td>Soil_Type_15</td>\n    </tr>\n    <tr>\n      <th>50</th>\n      <td>0.000692</td>\n      <td>Soil_Type_36</td>\n    </tr>\n    <tr>\n      <th>32</th>\n      <td>0.000681</td>\n      <td>Soil_Type_18</td>\n    </tr>\n    <tr>\n      <th>47</th>\n      <td>0.000547</td>\n      <td>Soil_Type_33</td>\n    </tr>\n    <tr>\n      <th>40</th>\n      <td>0.000501</td>\n      <td>Soil_Type_26</td>\n    </tr>\n    <tr>\n      <th>31</th>\n      <td>0.000460</td>\n      <td>Soil_Type_17</td>\n    </tr>\n    <tr>\n      <th>27</th>\n      <td>0.000375</td>\n      <td>Soil_Type_13</td>\n    </tr>\n    <tr>\n      <th>39</th>\n      <td>0.000282</td>\n      <td>Soil_Type_25</td>\n    </tr>\n    <tr>\n      <th>38</th>\n      <td>0.000237</td>\n      <td>Soil_Type_24</td>\n    </tr>\n    <tr>\n      <th>41</th>\n      <td>0.000131</td>\n      <td>Soil_Type_27</td>\n    </tr>\n    <tr>\n      <th>22</th>\n      <td>0.000101</td>\n      <td>Soil_Type_8</td>\n    </tr>\n    <tr>\n      <th>49</th>\n      <td>0.000067</td>\n      <td>Soil_Type_35</td>\n    </tr>\n    <tr>\n      <th>21</th>\n      <td>0.000029</td>\n      <td>Soil_Type_7</td>\n    </tr>\n    <tr>\n      <th>20</th>\n      <td>0.000014</td>\n      <td>Soil_Type_6</td>\n    </tr>\n    <tr>\n      <th>28</th>\n      <td>0.000004</td>\n      <td>Soil_Type_14</td>\n    </tr>\n  </tbody>\n</table>\n</div>"
     },
     "execution_count": 48,
     "metadata": {},
     "output_type": "execute_result"
    }
   ],
   "source": [
    "feature_names = data.columns.tolist()\n",
    "importances = model.feature_importances_\n",
    "data_importances = pd.DataFrame({\"importance\":importances,\n",
    "            \"feature\":feature_names}).sort_values(\"importance\",\n",
    "            ascending=False)\n",
    "data_importances"
   ],
   "metadata": {
    "collapsed": false,
    "pycharm": {
     "name": "#%%\n"
    }
   }
  },
  {
   "cell_type": "code",
   "execution_count": 56,
   "outputs": [
    {
     "name": "stdout",
     "output_type": "stream",
     "text": [
      "0.671923765375436\n",
      "0.6885326785386451\n",
      "0.6938280246006976\n",
      "0.7224045346062052\n",
      "0.7254624105011933\n",
      "0.747670736185056\n",
      "0.741434505232238\n",
      "0.7403215072516982\n",
      "0.7490246924912796\n",
      "0.7622372406829447\n",
      "0.773086102441711\n",
      "0.7713133376170369\n",
      "0.7704183495502112\n",
      "0.7684161006058381\n",
      "0.7624036166697264\n",
      "0.7699479071048283\n",
      "0.7668498714888929\n",
      "0.7619561226363135\n",
      "0.7608890214797136\n",
      "0.7604759500642555\n",
      "0.7598333945290986\n",
      "0.7547790067927299\n",
      "0.7552494492381128\n",
      "0.7494377639067377\n",
      "0.7561731228199009\n",
      "0.7489787956673398\n",
      "0.7471543969157334\n",
      "0.7441252065357077\n",
      "0.746081558656141\n",
      "0.7411189645676519\n",
      "0.740137919955939\n",
      "0.7372923168716725\n",
      "0.7377398109050853\n",
      "0.7388700201946026\n",
      "0.7348081512759317\n",
      "0.7442342114925647\n",
      "0.7462421975399303\n",
      "0.7458176519184873\n",
      "0.7462364604369378\n",
      "0.7459323939783367\n",
      "0.74468744262897\n",
      "0.7448767670277217\n",
      "0.7433220121167615\n",
      "0.7433506976317239\n",
      "0.7449398751606389\n",
      "0.7443087938314669\n",
      "0.7446415458050303\n",
      "0.7455881677987883\n",
      "0.7482846062052506\n",
      "0.7475158344042592\n",
      "0.7444751698182486\n",
      "0.7430351569671378\n",
      "0.749064852212227\n"
     ]
    }
   ],
   "source": [
    "X_train_start = X_train[data_importances['feature'][0]].to_frame()\n",
    "X_test_start = X_test[data_importances['feature'][0]].to_frame()\n",
    "score_list_imp = []\n",
    "for imp in range(1, len(data_importances['feature'])+1):\n",
    "    X_train_part = X_train_start\n",
    "    X_test_part = X_test_start\n",
    "    model.fit(X_train_part, y_train)\n",
    "    score_ = model.score(X_test_part, y_test)\n",
    "    score_list_imp.append(score_)\n",
    "    if imp == 54:\n",
    "        break\n",
    "    else:\n",
    "        X_train_start = X_train_start.join(X_train[data_importances['feature'][imp]])\n",
    "        X_test_start = X_test_start.join(X_test[data_importances['feature'][imp]])\n",
    "    print(score_)"
   ],
   "metadata": {
    "collapsed": false,
    "pycharm": {
     "name": "#%%\n"
    }
   }
  },
  {
   "cell_type": "code",
   "execution_count": 58,
   "outputs": [
    {
     "data": {
      "text/plain": "Text(0, 0.5, 'score')"
     },
     "execution_count": 58,
     "metadata": {},
     "output_type": "execute_result"
    },
    {
     "data": {
      "text/plain": "<Figure size 432x288 with 1 Axes>",
      "image/png": "[encoded data removed]"
     },
     "metadata": {
      "needs_background": "light"
     },
     "output_type": "display_data"
    }
   ],
   "source": [
    "sns.lineplot(x=range(len(data_importances['feature'])), y=score_list_imp)\n",
    "plt.xlabel('number of features')\n",
    "plt.ylabel('score')"
   ],
   "metadata": {
    "collapsed": false,
    "pycharm": {
     "name": "#%%\n"
    }
   }
  },
  {
   "cell_type": "markdown",
   "source": [
    "## Жадный отбор признаков по максимальному нарастанию качества модели"
   ],
   "metadata": {
    "collapsed": false
   }
  },
  {
   "cell_type": "code",
   "execution_count": null,
   "outputs": [],
   "source": [
    "from sklearn.feature_selection import SequentialFeatureSelector\n",
    "sfs = SequentialFeatureSelector(model, n_features_to_select=52)\n",
    "sfs.fit(X_train, y_train)\n",
    "list_indices_max = sfs.get_support(indices=True)\n",
    "list_indices_max"
   ],
   "metadata": {
    "collapsed": false,
    "pycharm": {
     "name": "#%%\n",
     "is_executing": true
    }
   }
  },
  {
   "cell_type": "markdown",
   "source": [
    "Даже потратив несколько часов, не смог получить результат. Но думаю, что логика правильная"
   ],
   "metadata": {
    "collapsed": false,
    "pycharm": {
     "name": "#%% md\n"
    }
   }
  },
  {
   "cell_type": "markdown",
   "source": [],
   "metadata": {
    "collapsed": false,
    "pycharm": {
     "name": "#%% md\n"
    }
   }
  },
  {
   "cell_type": "code",
   "execution_count": null,
   "outputs": [],
   "source": [
    "from sklearn.feature_selection import SequentialFeatureSelector\n",
    "sfs = SequentialFeatureSelector(model, n_features_to_select=52, direction='backward')\n",
    "sfs.fit(X_train, y_train)\n",
    "list_indices_max = sfs.get_support(indices=True)\n",
    "list_indices_max"
   ],
   "metadata": {
    "collapsed": false,
    "pycharm": {
     "name": "#%%\n"
    }
   }
  },
  {
   "cell_type": "markdown",
   "source": [
    "Даже потратив несколько часов, не смог получить результат. Но думаю, что логика правильная"
   ],
   "metadata": {
    "collapsed": false
   }
  },
  {
   "cell_type": "code",
   "execution_count": null,
   "outputs": [],
   "source": [],
   "metadata": {
    "collapsed": false,
    "pycharm": {
     "name": "#%%\n"
    }
   }
  }
 ],
 "metadata": {
  "kernelspec": {
   "display_name": "Python 3",
   "language": "python",
   "name": "python3"
  },
  "language_info": {
   "codemirror_mode": {
    "name": "ipython",
    "version": 2
   },
   "file_extension": ".py",
   "mimetype": "text/x-python",
   "name": "python",
   "nbconvert_exporter": "python",
   "pygments_lexer": "ipython2",
   "version": "2.7.6"
  }
 },
 "nbformat": 4,
 "nbformat_minor": 0
}