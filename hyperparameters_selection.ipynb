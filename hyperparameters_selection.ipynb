{
 "cells": [
  {
   "cell_type": "code",
   "execution_count": 1,
   "metadata": {
    "collapsed": true
   },
   "outputs": [],
   "source": [
    "from sklearn.datasets import load_boston\n",
    "from sklearn.model_selection import train_test_split"
   ]
  },
  {
   "cell_type": "code",
   "execution_count": 2,
   "outputs": [],
   "source": [
    "import pandas as pd\n",
    "import numpy as np\n",
    "\n",
    "data_url = \"http://lib.stat.cmu.edu/datasets/boston\"\n",
    "raw_df = pd.read_csv(data_url, sep=\"\\s+\", skiprows=22, header=None)\n",
    "X = np.hstack([raw_df.values[::2, :], raw_df.values[1::2, :2]])\n",
    "y = raw_df.values[1::2, 2]"
   ],
   "metadata": {
    "collapsed": false,
    "pycharm": {
     "name": "#%%\n"
    }
   }
  },
  {
   "cell_type": "code",
   "execution_count": 4,
   "outputs": [],
   "source": [
    "# from sklearn.preprocessing import StandardScaler"
   ],
   "metadata": {
    "collapsed": false,
    "pycharm": {
     "name": "#%%\n"
    }
   }
  },
  {
   "cell_type": "code",
   "execution_count": 17,
   "outputs": [],
   "source": [
    "# sc = StandardScaler()\n",
    "# X = sc.fit_transform(X)"
   ],
   "metadata": {
    "collapsed": false,
    "pycharm": {
     "name": "#%%\n"
    }
   }
  },
  {
   "cell_type": "code",
   "execution_count": 4,
   "outputs": [],
   "source": [
    "X_train, X_test, y_train, y_test = train_test_split(X, y, test_size=0.3)"
   ],
   "metadata": {
    "collapsed": false,
    "pycharm": {
     "name": "#%%\n"
    }
   }
  },
  {
   "cell_type": "code",
   "execution_count": 5,
   "outputs": [],
   "source": [
    "from sklearn.linear_model import LinearRegression\n",
    "from sklearn.tree import DecisionTreeRegressor\n",
    "from sklearn.svm import SVR\n",
    "from sklearn.linear_model import Lasso\n",
    "from sklearn.ensemble import RandomForestRegressor"
   ],
   "metadata": {
    "collapsed": false,
    "pycharm": {
     "name": "#%%\n"
    }
   }
  },
  {
   "cell_type": "code",
   "execution_count": 6,
   "outputs": [],
   "source": [
    "from sklearn.model_selection import GridSearchCV, RandomizedSearchCV"
   ],
   "metadata": {
    "collapsed": false,
    "pycharm": {
     "name": "#%%\n"
    }
   }
  },
  {
   "cell_type": "code",
   "execution_count": 9,
   "outputs": [],
   "source": [
    "models_params = [\n",
    "    {'name': 'LinearRegression', 'model': LinearRegression(), 'params': {'fit_intercept': [True, False]}},\n",
    "    {'name': 'DecisionTreeRegressor', 'model': DecisionTreeRegressor(), 'params': {'criterion': ['squared_error', 'absolute_error', 'poisson'], 'max_features': ['auto', 'sqrt', 'log2']}},\n",
    "    {'name': 'SVR', 'model': SVR(), 'params': {'kernel': ['linear', 'poly', 'rbf', 'sigmoid'], 'shrinking': [True, False]}},\n",
    "    {'name': 'Lasso', 'model': Lasso(), 'params': {'alpha': range(1,3), 'selection': ['cyclic', 'random']}},\n",
    "    {'name': 'RandomForestRegressor', 'model': RandomForestRegressor(), 'params': {'criterion': ['squared_error', 'absolute_error', 'poisson'], 'max_features': ['auto', 'sqrt', 'log2']}},\n",
    "]"
   ],
   "metadata": {
    "collapsed": false,
    "pycharm": {
     "name": "#%%\n"
    }
   }
  },
  {
   "cell_type": "code",
   "execution_count": 13,
   "outputs": [],
   "source": [
    "import warnings\n",
    "warnings.filterwarnings('ignore')"
   ],
   "metadata": {
    "collapsed": false,
    "pycharm": {
     "name": "#%%\n"
    }
   }
  },
  {
   "cell_type": "code",
   "execution_count": 14,
   "outputs": [],
   "source": [
    "res_grid_search = []\n",
    "for model in models_params:\n",
    "    res_grid_search.append((model['name'], GridSearchCV(model['model'], model['params'], cv=10).fit(X_train, y_train)))"
   ],
   "metadata": {
    "collapsed": false,
    "pycharm": {
     "name": "#%%\n"
    }
   }
  },
  {
   "cell_type": "code",
   "execution_count": 15,
   "outputs": [
    {
     "name": "stdout",
     "output_type": "stream",
     "text": [
      "LinearRegression 0.722207691884909 {'fit_intercept': True}\n",
      "DecisionTreeRegressor 0.6527577251361619 {'criterion': 'squared_error', 'max_features': 'auto'}\n",
      "SVR 0.7157831724329036 {'kernel': 'linear', 'shrinking': True}\n",
      "Lasso 0.6742316528341445 {'alpha': 1, 'selection': 'random'}\n",
      "RandomForestRegressor 0.871960097107567 {'criterion': 'squared_error', 'max_features': 'sqrt'}\n"
     ]
    }
   ],
   "source": [
    "for r in res_grid_search:\n",
    "    print(r[0], r[1].best_score_, r[1].best_params_)"
   ],
   "metadata": {
    "collapsed": false,
    "pycharm": {
     "name": "#%%\n"
    }
   }
  },
  {
   "cell_type": "code",
   "execution_count": 16,
   "outputs": [],
   "source": [
    "res_randomize_search = []\n",
    "for model in models_params:\n",
    "    res_randomize_search.append((model['name'], RandomizedSearchCV(model['model'], model['params'], cv=10).fit(X_train, y_train)))"
   ],
   "metadata": {
    "collapsed": false,
    "pycharm": {
     "name": "#%%\n"
    }
   }
  },
  {
   "cell_type": "code",
   "execution_count": 17,
   "outputs": [
    {
     "name": "stdout",
     "output_type": "stream",
     "text": [
      "LinearRegression 0.722207691884909 {'fit_intercept': True}\n",
      "DecisionTreeRegressor 0.703795498704538 {'max_features': 'auto', 'criterion': 'squared_error'}\n",
      "SVR 0.7157831724329036 {'shrinking': True, 'kernel': 'linear'}\n",
      "Lasso 0.6742342160234889 {'selection': 'random', 'alpha': 1}\n",
      "RandomForestRegressor 0.8646522053159151 {'max_features': 'sqrt', 'criterion': 'absolute_error'}\n"
     ]
    }
   ],
   "source": [
    "for r in res_randomize_search:\n",
    "    print(r[0], r[1].best_score_, r[1].best_params_)"
   ],
   "metadata": {
    "collapsed": false,
    "pycharm": {
     "name": "#%%\n"
    }
   }
  }
 ],
 "metadata": {
  "kernelspec": {
   "display_name": "Python 3",
   "language": "python",
   "name": "python3"
  },
  "language_info": {
   "codemirror_mode": {
    "name": "ipython",
    "version": 2
   },
   "file_extension": ".py",
   "mimetype": "text/x-python",
   "name": "python",
   "nbconvert_exporter": "python",
   "pygments_lexer": "ipython2",
   "version": "2.7.6"
  }
 },
 "nbformat": 4,
 "nbformat_minor": 0
}