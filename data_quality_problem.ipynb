{
 "cells": [
  {
   "cell_type": "markdown",
   "source": [
    "# Домашнее задание \"Проблема качества данных\""
   ],
   "metadata": {
    "collapsed": false
   }
  },
  {
   "cell_type": "code",
   "execution_count": 1,
   "metadata": {
    "collapsed": true
   },
   "outputs": [],
   "source": [
    "import numpy as np\n",
    "import pandas as pd\n",
    "\n",
    "from sklearn.linear_model import LinearRegression"
   ]
  },
  {
   "cell_type": "markdown",
   "source": [],
   "metadata": {
    "collapsed": false
   }
  },
  {
   "cell_type": "markdown",
   "source": [
    "## Создаём сэмпл"
   ],
   "metadata": {
    "collapsed": false
   }
  },
  {
   "cell_type": "code",
   "execution_count": 2,
   "outputs": [
    {
     "data": {
      "text/plain": "   number_of_items  size  weight   price\n0               87    90      89  400700\n1              119   149      30  223700\n2               64   162      52  421400\n3               24   138      79  545300\n4              174   130      51  331700",
      "text/html": "<div>\n<style scoped>\n    .dataframe tbody tr th:only-of-type {\n        vertical-align: middle;\n    }\n\n    .dataframe tbody tr th {\n        vertical-align: top;\n    }\n\n    .dataframe thead th {\n        text-align: right;\n    }\n</style>\n<table border=\"1\" class=\"dataframe\">\n  <thead>\n    <tr style=\"text-align: right;\">\n      <th></th>\n      <th>number_of_items</th>\n      <th>size</th>\n      <th>weight</th>\n      <th>price</th>\n    </tr>\n  </thead>\n  <tbody>\n    <tr>\n      <th>0</th>\n      <td>87</td>\n      <td>90</td>\n      <td>89</td>\n      <td>400700</td>\n    </tr>\n    <tr>\n      <th>1</th>\n      <td>119</td>\n      <td>149</td>\n      <td>30</td>\n      <td>223700</td>\n    </tr>\n    <tr>\n      <th>2</th>\n      <td>64</td>\n      <td>162</td>\n      <td>52</td>\n      <td>421400</td>\n    </tr>\n    <tr>\n      <th>3</th>\n      <td>24</td>\n      <td>138</td>\n      <td>79</td>\n      <td>545300</td>\n    </tr>\n    <tr>\n      <th>4</th>\n      <td>174</td>\n      <td>130</td>\n      <td>51</td>\n      <td>331700</td>\n    </tr>\n  </tbody>\n</table>\n</div>"
     },
     "execution_count": 2,
     "metadata": {},
     "output_type": "execute_result"
    }
   ],
   "source": [
    "n_samples = 1000\n",
    "\n",
    "number_of_items = np.random.choice(200, n_samples) + 15\n",
    "size = np.random.choice(150, n_samples) + 20\n",
    "weight = np.random.choice(80, n_samples) + 25\n",
    "\n",
    "price = size * weight * 50 + 200\n",
    "\n",
    "data = pd.DataFrame({'number_of_items': number_of_items, 'size': size, 'weight': weight, 'price': price})\n",
    "data.head(5)"
   ],
   "metadata": {
    "collapsed": false,
    "pycharm": {
     "name": "#%%\n"
    }
   }
  },
  {
   "cell_type": "markdown",
   "source": [
    "## Построим модель со всеми парамертрами"
   ],
   "metadata": {
    "collapsed": false
   }
  },
  {
   "cell_type": "code",
   "execution_count": 4,
   "outputs": [
    {
     "name": "stdout",
     "output_type": "stream",
     "text": [
      "Weights: [  17.23857973 3194.8905305  4772.6610899 ]\n",
      "Bias: -307648.9997794889\n",
      "Error: 37763.5444174399\n"
     ]
    }
   ],
   "source": [
    "from sklearn.metrics import mean_absolute_error\n",
    "\n",
    "X = data[['number_of_items', 'size', 'weight']]\n",
    "y = data['price']\n",
    "reg = LinearRegression().fit(X, y)\n",
    "print('Weights: {}'.format(reg.coef_))\n",
    "print('Bias: {}'.format(reg.intercept_))\n",
    "\n",
    "pred_values = reg.predict(data[['number_of_items', 'size', 'weight']])\n",
    "print('Error: {}'.format(mean_absolute_error(pred_values, y)))"
   ],
   "metadata": {
    "collapsed": false,
    "pycharm": {
     "name": "#%%\n"
    }
   }
  },
  {
   "cell_type": "markdown",
   "source": [
    "- Слишком низкий вес, по сравнению с другими признаками, у number_of_items\n",
    "- Bias слишком низкий\n",
    "- Error слишком высокий"
   ],
   "metadata": {
    "collapsed": false
   }
  },
  {
   "cell_type": "markdown",
   "source": [
    "## Используем только признаки с высокими весами для построения модели"
   ],
   "metadata": {
    "collapsed": false
   }
  },
  {
   "cell_type": "code",
   "execution_count": 7,
   "outputs": [
    {
     "name": "stdout",
     "output_type": "stream",
     "text": [
      "Weights: [3193.90746675 4774.76771362]\n",
      "Bias: -305749.09472878696\n",
      "Error: 37758.823694012404\n"
     ]
    }
   ],
   "source": [
    "X = data[['size', 'weight']]\n",
    "y = data['price']\n",
    "reg = LinearRegression().fit(X, y)\n",
    "print('Weights: {}'.format(reg.coef_))\n",
    "print('Bias: {}'.format(reg.intercept_))\n",
    "\n",
    "pred_values = reg.predict(data[['size', 'weight']])\n",
    "print('Error: {}'.format(mean_absolute_error(pred_values, y)))"
   ],
   "metadata": {
    "collapsed": false,
    "pycharm": {
     "name": "#%%\n"
    }
   }
  },
  {
   "cell_type": "markdown",
   "source": [
    "- Bias слишком низкий\n",
    "- Error слишком высокий"
   ],
   "metadata": {
    "collapsed": false
   }
  },
  {
   "cell_type": "markdown",
   "source": [
    "## Создаем новый признак"
   ],
   "metadata": {
    "collapsed": false
   }
  },
  {
   "cell_type": "code",
   "execution_count": 8,
   "outputs": [
    {
     "data": {
      "text/plain": "   number_of_items  size  weight   price   mult\n0               87    90      89  400700   8010\n1              119   149      30  223700   4470\n2               64   162      52  421400   8424\n3               24   138      79  545300  10902\n4              174   130      51  331700   6630",
      "text/html": "<div>\n<style scoped>\n    .dataframe tbody tr th:only-of-type {\n        vertical-align: middle;\n    }\n\n    .dataframe tbody tr th {\n        vertical-align: top;\n    }\n\n    .dataframe thead th {\n        text-align: right;\n    }\n</style>\n<table border=\"1\" class=\"dataframe\">\n  <thead>\n    <tr style=\"text-align: right;\">\n      <th></th>\n      <th>number_of_items</th>\n      <th>size</th>\n      <th>weight</th>\n      <th>price</th>\n      <th>mult</th>\n    </tr>\n  </thead>\n  <tbody>\n    <tr>\n      <th>0</th>\n      <td>87</td>\n      <td>90</td>\n      <td>89</td>\n      <td>400700</td>\n      <td>8010</td>\n    </tr>\n    <tr>\n      <th>1</th>\n      <td>119</td>\n      <td>149</td>\n      <td>30</td>\n      <td>223700</td>\n      <td>4470</td>\n    </tr>\n    <tr>\n      <th>2</th>\n      <td>64</td>\n      <td>162</td>\n      <td>52</td>\n      <td>421400</td>\n      <td>8424</td>\n    </tr>\n    <tr>\n      <th>3</th>\n      <td>24</td>\n      <td>138</td>\n      <td>79</td>\n      <td>545300</td>\n      <td>10902</td>\n    </tr>\n    <tr>\n      <th>4</th>\n      <td>174</td>\n      <td>130</td>\n      <td>51</td>\n      <td>331700</td>\n      <td>6630</td>\n    </tr>\n  </tbody>\n</table>\n</div>"
     },
     "execution_count": 8,
     "metadata": {},
     "output_type": "execute_result"
    }
   ],
   "source": [
    "data['mult'] = data['size'] * data['weight']\n",
    "data.head(5)"
   ],
   "metadata": {
    "collapsed": false,
    "pycharm": {
     "name": "#%%\n"
    }
   }
  },
  {
   "cell_type": "markdown",
   "source": [
    "## Используем только новый признак для построения модели"
   ],
   "metadata": {
    "collapsed": false
   }
  },
  {
   "cell_type": "code",
   "execution_count": 9,
   "outputs": [
    {
     "name": "stdout",
     "output_type": "stream",
     "text": [
      "Weights: [50.]\n",
      "Bias: 200.0\n",
      "Error: 4.953835741616786e-11\n"
     ]
    }
   ],
   "source": [
    "X = data[['mult']]\n",
    "y = data['price']\n",
    "reg = LinearRegression().fit(X, y)\n",
    "print('Weights: {}'.format(reg.coef_))\n",
    "print('Bias: {}'.format(reg.intercept_))\n",
    "\n",
    "pred_values = reg.predict(data[['mult']])\n",
    "print('Error: {}'.format(mean_absolute_error(pred_values, y)))"
   ],
   "metadata": {
    "collapsed": false,
    "pycharm": {
     "name": "#%%\n"
    }
   }
  },
  {
   "cell_type": "markdown",
   "source": [
    "- Bias стал не таким низким\n",
    "- Error стал гораздо ниже"
   ],
   "metadata": {
    "collapsed": false
   }
  },
  {
   "cell_type": "code",
   "execution_count": null,
   "outputs": [],
   "source": [],
   "metadata": {
    "collapsed": false,
    "pycharm": {
     "name": "#%%\n"
    }
   }
  }
 ],
 "metadata": {
  "kernelspec": {
   "display_name": "Python 3",
   "language": "python",
   "name": "python3"
  },
  "language_info": {
   "codemirror_mode": {
    "name": "ipython",
    "version": 2
   },
   "file_extension": ".py",
   "mimetype": "text/x-python",
   "name": "python",
   "nbconvert_exporter": "python",
   "pygments_lexer": "ipython2",
   "version": "2.7.6"
  }
 },
 "nbformat": 4,
 "nbformat_minor": 0
}